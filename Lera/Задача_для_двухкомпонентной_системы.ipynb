{
  "cells": [
    {
      "cell_type": "code",
      "execution_count": 16,
      "metadata": {
        "colab": {
          "base_uri": "https://localhost:8080/"
        },
        "id": "jNPjaKxMJMYI",
        "outputId": "331eb3c0-2e62-4963-b0d0-ebd1d78c824c"
      },
      "outputs": [
        {
          "name": "stdout",
          "output_type": "stream",
          "text": [
            "HOLA\n"
          ]
        }
      ],
      "source": [
        "print('HOLA')"
      ]
    },
    {
      "cell_type": "code",
      "execution_count": 17,
      "metadata": {
        "id": "1KEIaPaNJt5O"
      },
      "outputs": [],
      "source": [
        "from pathlib import Path\n",
        "import numpy as np\n",
        "import pandas as pd"
      ]
    },
    {
      "cell_type": "code",
      "execution_count": 18,
      "metadata": {
        "id": "X5LztZ8XJ8aP"
      },
      "outputs": [],
      "source": [
        "#объединяем 5 параллельных измерений в одно усредненное. Получаем файл с интенсивностями\n",
        "I320=np.zeros((3,72))\n",
        "DATA = Path().resolve() / 'data'\n",
        "for i in range(1,6):\n",
        "  obj = f'({i}).csv'\n",
        "  a=np.genfromtxt(DATA/ obj,delimiter=',')\n",
        "  I320+=a[1:,1:]\n",
        "I320/=5"
      ]
    },
    {
      "cell_type": "code",
      "execution_count": 19,
      "metadata": {
        "id": "PSe0P4TkOmmw"
      },
      "outputs": [],
      "source": [
        "#выводим значения туши и воды из данных\n",
        "W=np.mean(I320[:,-4:],axis=1,keepdims=True)\n",
        "B=np.mean(I320[:,-8:-4],axis=1,keepdims=True)\n",
        "I320=I320[:,:-8]"
      ]
    },
    {
      "cell_type": "code",
      "execution_count": 20,
      "metadata": {
        "colab": {
          "base_uri": "https://localhost:8080/"
        },
        "id": "SZaENZuDRMlB",
        "outputId": "22da3b60-6a58-4ba0-8558-080c0d77f07a"
      },
      "outputs": [],
      "source": [
        "#вводим матрицу концентраций\n",
        "C=np.genfromtxt(DATA/'конц.txt')#в файле должны стоять точкив качестве десятичной фигни"
      ]
    },
    {
      "cell_type": "code",
      "execution_count": 21,
      "metadata": {
        "id": "33qhM9ceV0Ov"
      },
      "outputs": [],
      "source": [
        "#A320=LOG10((W-B)/(I-B))\n",
        "A320=np.zeros_like(I320)\n",
        "for i in range(3):\n",
        "  A320[i,:]=np.log10((W[i,0]-B[i,0])/(I320[i,:]-B[i,0]))"
      ]
    },
    {
      "cell_type": "code",
      "execution_count": 22,
      "metadata": {
        "colab": {
          "base_uri": "https://localhost:8080/"
        },
        "id": "DHRd5eFBGrtT",
        "outputId": "b48390c5-8b06-4175-f4a0-a47846fdd7ac"
      },
      "outputs": [
        {
          "name": "stdout",
          "output_type": "stream",
          "text": [
            "[[6.44800e-06 1.28960e-05 1.28960e-05 2.57920e-05 2.57920e-05 5.15840e-05\n",
            "  5.15840e-05 1.03168e-04 1.03168e-04 1.03168e-04 2.06336e-04 2.06336e-04\n",
            "  2.06336e-04 2.06336e-04 4.12672e-04 4.12672e-04 4.12672e-04 4.12672e-04\n",
            "  4.12672e-04 4.12672e-04 4.12672e-04 4.12672e-04 8.25344e-04 8.25344e-04\n",
            "  8.25344e-04 8.25344e-04 8.25344e-04 8.25344e-04 8.25344e-04]\n",
            " [1.56960e-04 7.84800e-05 1.56960e-04 7.84800e-05 1.56960e-04 7.84800e-05\n",
            "  1.56960e-04 3.92400e-05 7.84800e-05 1.56960e-04 1.96200e-05 3.92400e-05\n",
            "  7.84800e-05 1.56960e-04 1.24260e-06 2.48520e-06 4.90500e-06 9.81000e-06\n",
            "  1.96200e-05 3.92400e-05 7.84800e-05 1.56960e-04 1.24260e-06 2.48520e-06\n",
            "  4.90500e-06 9.81000e-06 1.96200e-05 3.92400e-05 7.84800e-05]]\n"
          ]
        }
      ],
      "source": [
        "Matrix=np.vstack([C,A320])\n",
        "Matrix=np.delete(Matrix,np.where(np.logical_or(Matrix[2:]>0.9,Matrix[2:]<0.04))[1],1)\n",
        "Matrix.shape \n",
        "C=Matrix[:2]\n",
        "A320=Matrix[2:]\n",
        "print(C)"
      ]
    },
    {
      "cell_type": "code",
      "execution_count": 23,
      "metadata": {
        "id": "OiBXEPSqX6pE"
      },
      "outputs": [],
      "source": [
        "#делаем матрицу пересчетов по формулкам\n",
        "AxA=A320@A320.T\n",
        "AxA_obr=np.linalg.inv(AxA)\n",
        "CxA=C@A320.T\n",
        "B_m=CxA@AxA_obr"
      ]
    },
    {
      "cell_type": "code",
      "execution_count": 24,
      "metadata": {
        "id": "AVYs6u6gcxPO"
      },
      "outputs": [],
      "source": [
        "#считаем концентрации по расчетам\n",
        "C_r=B_m@A320"
      ]
    },
    {
      "cell_type": "code",
      "execution_count": 25,
      "metadata": {
        "id": "4cf8k85GeI4K"
      },
      "outputs": [],
      "source": [
        "#относительные погрешности расчетов\n",
        "dC=np.abs((C-C_r)/C*100)\n"
      ]
    },
    {
      "cell_type": "code",
      "execution_count": 26,
      "metadata": {
        "colab": {
          "base_uri": "https://localhost:8080/"
        },
        "id": "4idm5F_RevT5",
        "outputId": "dcbb2b47-3d33-41fd-8738-57c3b58d2c6c"
      },
      "outputs": [
        {
          "name": "stdout",
          "output_type": "stream",
          "text": [
            "68.90170322398751\n",
            "39.5111262336509\n",
            "98.2922802143241\n"
          ]
        }
      ],
      "source": [
        "print(dC.mean())\n",
        "print(dC[0,:].mean())\n",
        "print(dC[1,:].mean())\n"
      ]
    },
    {
      "cell_type": "code",
      "execution_count": 27,
      "metadata": {
        "colab": {
          "base_uri": "https://localhost:8080/"
        },
        "id": "lnkamQvYhcid",
        "outputId": "910d89ba-1f95-4af5-8045-f7eefaf10b3c"
      },
      "outputs": [
        {
          "name": "stdout",
          "output_type": "stream",
          "text": [
            "[119.86389023  12.89585411   8.19079745   3.64366528          nan\n",
            "          nan          nan          nan]\n",
            "[ 60.34271601  15.15769286  13.9152532   16.74189998  12.17906789\n",
            "  10.91030107 545.02859472 236.43763969]\n"
          ]
        },
        {
          "name": "stderr",
          "output_type": "stream",
          "text": [
            "c:\\Users\\Hipor\\projects\\.venv\\Lib\\site-packages\\numpy\\core\\fromnumeric.py:3464: RuntimeWarning: Mean of empty slice.\n",
            "  return _methods._mean(a, axis=axis, dtype=dtype,\n",
            "c:\\Users\\Hipor\\projects\\.venv\\Lib\\site-packages\\numpy\\core\\_methods.py:192: RuntimeWarning: invalid value encountered in scalar divide\n",
            "  ret = ret.dtype.type(ret / rcount)\n"
          ]
        }
      ],
      "source": [
        "#погрешности по разным концентрациям разных красителей\n",
        "dC_FK=np.array([np.mean(dC[0,i*8:i*8+8])for i in range(8)])\n",
        "dC_BS=np.array([np.mean(dC[1,i::8])for i in range(8)])\n",
        "print(dC_FK)\n",
        "print(dC_BS) "
      ]
    }
  ],
  "metadata": {
    "colab": {
      "provenance": []
    },
    "kernelspec": {
      "display_name": "Python 3",
      "name": "python3"
    },
    "language_info": {
      "codemirror_mode": {
        "name": "ipython",
        "version": 3
      },
      "file_extension": ".py",
      "mimetype": "text/x-python",
      "name": "python",
      "nbconvert_exporter": "python",
      "pygments_lexer": "ipython3",
      "version": "3.11.0"
    }
  },
  "nbformat": 4,
  "nbformat_minor": 0
}
