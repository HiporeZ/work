{
 "cells": [
  {
   "attachments": {},
   "cell_type": "markdown",
   "metadata": {},
   "source": [
    "# Нейронные сети (Keras)"
   ]
  },
  {
   "attachments": {},
   "cell_type": "markdown",
   "metadata": {},
   "source": [
    "N1 = x1*w1 + x2*w2 результат в одном нейроне\n",
    "\n",
    "Y = N1*wk + N2*wp результат выходного слоя\n",
    "\n",
    "Существуют входные слои (исходные данные, те или иные)\n",
    "\n",
    "Скрытый слой (некоторое количество слоев с некоторым кол-вом нейронов)\n",
    "\n",
    "Выходной слой (необязательно один нейрон)\n",
    "\n",
    "### В нейроне существуют функции активации - функция применяемая на сложенные значения в нейроне\n",
    "\n",
    "identity - ничего не делаем\n",
    "\n",
    "logistic (сигмоид) f(x)=1/(1+exp(x))\n",
    "\n",
    "relu (линейный выпрямитель) f(x) = max(0,x) - обнуляет отрицательнные значения\n",
    "\n",
    "tanh (гиперболический тангенс) - f(x)=tanh(x)=(exp(x)-exp(-x))/(exp(x)+exp(-x))\n",
    "\n",
    "### Всё это нужно для такой нормировки данных"
   ]
  },
  {
   "attachments": {},
   "cell_type": "markdown",
   "metadata": {},
   "source": [
    "## Оптимизаторы\n",
    "\n",
    "В итоге сводим задачу к нахождению весов весов для сведения ошибки к минимум, начинаем это делать с конца\n",
    "\n",
    "lbfgs - квазиньютоновский метод, итерационный метод \n",
    "\n",
    "sgd - стохастический градиентный спуск, вместо реального градиента вычисляют его оценку (так вычислительно проще)\n",
    "\n",
    "adam - близкие к оптимуму параметры должны меняться меньше, другие сильнее (идейно должен лучше преодолевать локальные минимумы)"
   ]
  },
  {
   "cell_type": "code",
   "execution_count": 126,
   "metadata": {},
   "outputs": [],
   "source": [
    "%matplotlib inline\n",
    "import numpy as np\n",
    "import pandas as pd\n",
    "import matplotlib.pylab as plt\n",
    "from sklearn.model_selection import train_test_split\n",
    "from sklearn.preprocessing import StandardScaler"
   ]
  },
  {
   "cell_type": "code",
   "execution_count": 127,
   "metadata": {},
   "outputs": [],
   "source": [
    "df = pd.read_csv('delaney-processed.csv')"
   ]
  },
  {
   "cell_type": "code",
   "execution_count": 128,
   "metadata": {},
   "outputs": [
    {
     "data": {
      "text/html": [
       "<div>\n",
       "<style scoped>\n",
       "    .dataframe tbody tr th:only-of-type {\n",
       "        vertical-align: middle;\n",
       "    }\n",
       "\n",
       "    .dataframe tbody tr th {\n",
       "        vertical-align: top;\n",
       "    }\n",
       "\n",
       "    .dataframe thead th {\n",
       "        text-align: right;\n",
       "    }\n",
       "</style>\n",
       "<table border=\"1\" class=\"dataframe\">\n",
       "  <thead>\n",
       "    <tr style=\"text-align: right;\">\n",
       "      <th></th>\n",
       "      <th>Compound ID</th>\n",
       "      <th>ESOL predicted log solubility in mols per litre</th>\n",
       "      <th>Minimum Degree</th>\n",
       "      <th>Molecular Weight</th>\n",
       "      <th>Number of H-Bond Donors</th>\n",
       "      <th>Number of Rings</th>\n",
       "      <th>Number of Rotatable Bonds</th>\n",
       "      <th>Polar Surface Area</th>\n",
       "      <th>measured log solubility in mols per litre</th>\n",
       "      <th>smiles</th>\n",
       "    </tr>\n",
       "  </thead>\n",
       "  <tbody>\n",
       "    <tr>\n",
       "      <th>0</th>\n",
       "      <td>Amigdalin</td>\n",
       "      <td>-0.974</td>\n",
       "      <td>1</td>\n",
       "      <td>457.432</td>\n",
       "      <td>7</td>\n",
       "      <td>3</td>\n",
       "      <td>7</td>\n",
       "      <td>202.32</td>\n",
       "      <td>-0.77</td>\n",
       "      <td>OCC3OC(OCC2OC(OC(C#N)c1ccccc1)C(O)C(O)C2O)C(O)...</td>\n",
       "    </tr>\n",
       "    <tr>\n",
       "      <th>1</th>\n",
       "      <td>Fenfuram</td>\n",
       "      <td>-2.885</td>\n",
       "      <td>1</td>\n",
       "      <td>201.225</td>\n",
       "      <td>1</td>\n",
       "      <td>2</td>\n",
       "      <td>2</td>\n",
       "      <td>42.24</td>\n",
       "      <td>-3.30</td>\n",
       "      <td>Cc1occc1C(=O)Nc2ccccc2</td>\n",
       "    </tr>\n",
       "    <tr>\n",
       "      <th>2</th>\n",
       "      <td>citral</td>\n",
       "      <td>-2.579</td>\n",
       "      <td>1</td>\n",
       "      <td>152.237</td>\n",
       "      <td>0</td>\n",
       "      <td>0</td>\n",
       "      <td>4</td>\n",
       "      <td>17.07</td>\n",
       "      <td>-2.06</td>\n",
       "      <td>CC(C)=CCCC(C)=CC(=O)</td>\n",
       "    </tr>\n",
       "    <tr>\n",
       "      <th>3</th>\n",
       "      <td>Picene</td>\n",
       "      <td>-6.618</td>\n",
       "      <td>2</td>\n",
       "      <td>278.354</td>\n",
       "      <td>0</td>\n",
       "      <td>5</td>\n",
       "      <td>0</td>\n",
       "      <td>0.00</td>\n",
       "      <td>-7.87</td>\n",
       "      <td>c1ccc2c(c1)ccc3c2ccc4c5ccccc5ccc43</td>\n",
       "    </tr>\n",
       "    <tr>\n",
       "      <th>4</th>\n",
       "      <td>Thiophene</td>\n",
       "      <td>-2.232</td>\n",
       "      <td>2</td>\n",
       "      <td>84.143</td>\n",
       "      <td>0</td>\n",
       "      <td>1</td>\n",
       "      <td>0</td>\n",
       "      <td>0.00</td>\n",
       "      <td>-1.33</td>\n",
       "      <td>c1ccsc1</td>\n",
       "    </tr>\n",
       "  </tbody>\n",
       "</table>\n",
       "</div>"
      ],
      "text/plain": [
       "  Compound ID  ESOL predicted log solubility in mols per litre  \\\n",
       "0   Amigdalin                                           -0.974   \n",
       "1    Fenfuram                                           -2.885   \n",
       "2      citral                                           -2.579   \n",
       "3      Picene                                           -6.618   \n",
       "4   Thiophene                                           -2.232   \n",
       "\n",
       "   Minimum Degree  Molecular Weight  Number of H-Bond Donors  Number of Rings  \\\n",
       "0               1           457.432                        7                3   \n",
       "1               1           201.225                        1                2   \n",
       "2               1           152.237                        0                0   \n",
       "3               2           278.354                        0                5   \n",
       "4               2            84.143                        0                1   \n",
       "\n",
       "   Number of Rotatable Bonds  Polar Surface Area  \\\n",
       "0                          7              202.32   \n",
       "1                          2               42.24   \n",
       "2                          4               17.07   \n",
       "3                          0                0.00   \n",
       "4                          0                0.00   \n",
       "\n",
       "   measured log solubility in mols per litre  \\\n",
       "0                                      -0.77   \n",
       "1                                      -3.30   \n",
       "2                                      -2.06   \n",
       "3                                      -7.87   \n",
       "4                                      -1.33   \n",
       "\n",
       "                                              smiles  \n",
       "0  OCC3OC(OCC2OC(OC(C#N)c1ccccc1)C(O)C(O)C2O)C(O)...  \n",
       "1                             Cc1occc1C(=O)Nc2ccccc2  \n",
       "2                               CC(C)=CCCC(C)=CC(=O)  \n",
       "3                 c1ccc2c(c1)ccc3c2ccc4c5ccccc5ccc43  \n",
       "4                                            c1ccsc1  "
      ]
     },
     "execution_count": 128,
     "metadata": {},
     "output_type": "execute_result"
    }
   ],
   "source": [
    "df.head()"
   ]
  },
  {
   "cell_type": "code",
   "execution_count": 129,
   "metadata": {},
   "outputs": [
    {
     "name": "stdout",
     "output_type": "stream",
     "text": [
      "<class 'pandas.core.frame.DataFrame'>\n",
      "RangeIndex: 1128 entries, 0 to 1127\n",
      "Data columns (total 10 columns):\n",
      " #   Column                                           Non-Null Count  Dtype  \n",
      "---  ------                                           --------------  -----  \n",
      " 0   Compound ID                                      1128 non-null   object \n",
      " 1   ESOL predicted log solubility in mols per litre  1128 non-null   float64\n",
      " 2   Minimum Degree                                   1128 non-null   int64  \n",
      " 3   Molecular Weight                                 1128 non-null   float64\n",
      " 4   Number of H-Bond Donors                          1128 non-null   int64  \n",
      " 5   Number of Rings                                  1128 non-null   int64  \n",
      " 6   Number of Rotatable Bonds                        1128 non-null   int64  \n",
      " 7   Polar Surface Area                               1128 non-null   float64\n",
      " 8   measured log solubility in mols per litre        1128 non-null   float64\n",
      " 9   smiles                                           1128 non-null   object \n",
      "dtypes: float64(4), int64(4), object(2)\n",
      "memory usage: 88.2+ KB\n"
     ]
    }
   ],
   "source": [
    "df.info()"
   ]
  },
  {
   "cell_type": "code",
   "execution_count": 130,
   "metadata": {},
   "outputs": [
    {
     "name": "stdout",
     "output_type": "stream",
     "text": [
      "(1128, 5) (1128, 1)\n"
     ]
    }
   ],
   "source": [
    "x = np.array(df.iloc[:,3:8]) #отобрали 5 колонок для модели\n",
    "y = np.array(df.iloc[:,8]).reshape(-1,1)\n",
    "print(x.shape,y.shape)"
   ]
  },
  {
   "cell_type": "code",
   "execution_count": 131,
   "metadata": {},
   "outputs": [],
   "source": [
    "scaler = StandardScaler()\n",
    "x = scaler.fit_transform(x)"
   ]
  },
  {
   "cell_type": "code",
   "execution_count": 132,
   "metadata": {},
   "outputs": [
    {
     "name": "stdout",
     "output_type": "stream",
     "text": [
      "(226, 5)\n"
     ]
    }
   ],
   "source": [
    "x_train, x_test, y_train, y_test = train_test_split(x,y, random_state=1240, train_size=0.8)\n",
    "print(x_test.shape)"
   ]
  },
  {
   "cell_type": "code",
   "execution_count": 133,
   "metadata": {},
   "outputs": [],
   "source": [
    "\n",
    "from tensorflow.keras.models import Sequential"
   ]
  },
  {
   "cell_type": "code",
   "execution_count": 134,
   "metadata": {},
   "outputs": [],
   "source": [
    "from tensorflow.keras.layers import Dense\n",
    "from tensorflow.keras.optimizers import Adam\n",
    "from tensorflow.keras import metrics"
   ]
  },
  {
   "attachments": {},
   "cell_type": "markdown",
   "metadata": {},
   "source": [
    "Делаем нейроку с такими слоями: Схема из 5 >>> 10 >>> 5 >>> 3 >>> 1 результат"
   ]
  },
  {
   "cell_type": "code",
   "execution_count": 135,
   "metadata": {},
   "outputs": [],
   "source": [
    "nn1 = Sequential() # сгенирили прямоходную модель\n",
    "nn1.add(Dense(10, input_dim=5)) # генерим слои + вводим на первый раз кол-во исходных данных\n",
    "nn1.add(Dense(5))\n",
    "nn1.add(Dense(3))\n",
    "nn1.add(Dense(1))"
   ]
  },
  {
   "cell_type": "code",
   "execution_count": 136,
   "metadata": {},
   "outputs": [],
   "source": [
    "nn1.compile(loss='mse', optimizer=Adam(learning_rate=0.001)) #создали модель с алгоритмом Adam"
   ]
  },
  {
   "cell_type": "code",
   "execution_count": 137,
   "metadata": {},
   "outputs": [
    {
     "name": "stdout",
     "output_type": "stream",
     "text": [
      "Epoch 1/100\n",
      "10/10 [==============================] - 1s 25ms/step - loss: 13.3462 - val_loss: 14.3660\n",
      "Epoch 2/100\n",
      "10/10 [==============================] - 0s 5ms/step - loss: 12.9530 - val_loss: 13.9721\n",
      "Epoch 3/100\n",
      "10/10 [==============================] - 0s 5ms/step - loss: 12.5662 - val_loss: 13.5762\n",
      "Epoch 4/100\n",
      "10/10 [==============================] - 0s 5ms/step - loss: 12.1917 - val_loss: 13.1536\n",
      "Epoch 5/100\n",
      "10/10 [==============================] - 0s 5ms/step - loss: 11.7710 - val_loss: 12.7085\n",
      "Epoch 6/100\n",
      "10/10 [==============================] - 0s 6ms/step - loss: 11.3397 - val_loss: 12.2422\n",
      "Epoch 7/100\n",
      "10/10 [==============================] - 0s 13ms/step - loss: 10.8663 - val_loss: 11.6931\n",
      "Epoch 8/100\n",
      "10/10 [==============================] - 0s 13ms/step - loss: 10.3139 - val_loss: 11.0823\n",
      "Epoch 9/100\n",
      "10/10 [==============================] - 0s 13ms/step - loss: 9.7145 - val_loss: 10.4152\n",
      "Epoch 10/100\n",
      "10/10 [==============================] - 0s 13ms/step - loss: 9.0008 - val_loss: 9.5984\n",
      "Epoch 11/100\n",
      "10/10 [==============================] - 0s 12ms/step - loss: 8.2389 - val_loss: 8.7448\n",
      "Epoch 12/100\n",
      "10/10 [==============================] - 0s 13ms/step - loss: 7.4140 - val_loss: 7.8270\n",
      "Epoch 13/100\n",
      "10/10 [==============================] - 0s 12ms/step - loss: 6.5180 - val_loss: 6.8056\n",
      "Epoch 14/100\n",
      "10/10 [==============================] - 0s 12ms/step - loss: 5.6039 - val_loss: 5.8657\n",
      "Epoch 15/100\n",
      "10/10 [==============================] - 0s 13ms/step - loss: 4.8153 - val_loss: 5.0502\n",
      "Epoch 16/100\n",
      "10/10 [==============================] - 0s 14ms/step - loss: 4.1353 - val_loss: 4.3279\n",
      "Epoch 17/100\n",
      "10/10 [==============================] - 0s 13ms/step - loss: 3.6057 - val_loss: 3.7416\n",
      "Epoch 18/100\n",
      "10/10 [==============================] - 0s 13ms/step - loss: 3.1705 - val_loss: 3.2599\n",
      "Epoch 19/100\n",
      "10/10 [==============================] - 0s 13ms/step - loss: 2.8090 - val_loss: 2.8901\n",
      "Epoch 20/100\n",
      "10/10 [==============================] - 0s 12ms/step - loss: 2.5270 - val_loss: 2.5989\n",
      "Epoch 21/100\n",
      "10/10 [==============================] - 0s 13ms/step - loss: 2.2934 - val_loss: 2.3625\n",
      "Epoch 22/100\n",
      "10/10 [==============================] - 0s 13ms/step - loss: 2.0910 - val_loss: 2.1451\n",
      "Epoch 23/100\n",
      "10/10 [==============================] - 0s 12ms/step - loss: 1.9247 - val_loss: 1.9491\n",
      "Epoch 24/100\n",
      "10/10 [==============================] - 0s 13ms/step - loss: 1.7741 - val_loss: 1.7915\n",
      "Epoch 25/100\n",
      "10/10 [==============================] - 0s 12ms/step - loss: 1.6606 - val_loss: 1.6880\n",
      "Epoch 26/100\n",
      "10/10 [==============================] - 0s 12ms/step - loss: 1.5931 - val_loss: 1.6202\n",
      "Epoch 27/100\n",
      "10/10 [==============================] - 0s 12ms/step - loss: 1.5419 - val_loss: 1.5685\n",
      "Epoch 28/100\n",
      "10/10 [==============================] - 0s 12ms/step - loss: 1.5103 - val_loss: 1.5282\n",
      "Epoch 29/100\n",
      "10/10 [==============================] - 0s 12ms/step - loss: 1.4857 - val_loss: 1.4991\n",
      "Epoch 30/100\n",
      "10/10 [==============================] - 0s 12ms/step - loss: 1.4743 - val_loss: 1.4835\n",
      "Epoch 31/100\n",
      "10/10 [==============================] - 0s 11ms/step - loss: 1.4606 - val_loss: 1.4586\n",
      "Epoch 32/100\n",
      "10/10 [==============================] - 0s 12ms/step - loss: 1.4461 - val_loss: 1.4430\n",
      "Epoch 33/100\n",
      "10/10 [==============================] - 0s 12ms/step - loss: 1.4389 - val_loss: 1.4273\n",
      "Epoch 34/100\n",
      "10/10 [==============================] - 0s 12ms/step - loss: 1.4328 - val_loss: 1.4170\n",
      "Epoch 35/100\n",
      "10/10 [==============================] - 0s 12ms/step - loss: 1.4250 - val_loss: 1.4161\n",
      "Epoch 36/100\n",
      "10/10 [==============================] - 0s 12ms/step - loss: 1.4231 - val_loss: 1.4179\n",
      "Epoch 37/100\n",
      "10/10 [==============================] - 0s 12ms/step - loss: 1.4189 - val_loss: 1.4259\n",
      "Epoch 38/100\n",
      "10/10 [==============================] - 0s 12ms/step - loss: 1.4180 - val_loss: 1.4302\n",
      "Epoch 39/100\n",
      "10/10 [==============================] - 0s 12ms/step - loss: 1.4136 - val_loss: 1.4225\n",
      "Epoch 40/100\n",
      "10/10 [==============================] - 0s 14ms/step - loss: 1.4125 - val_loss: 1.4198\n",
      "Epoch 41/100\n",
      "10/10 [==============================] - 0s 13ms/step - loss: 1.4109 - val_loss: 1.4240\n",
      "Epoch 42/100\n",
      "10/10 [==============================] - 0s 12ms/step - loss: 1.4084 - val_loss: 1.4103\n",
      "Epoch 43/100\n",
      "10/10 [==============================] - 0s 12ms/step - loss: 1.4225 - val_loss: 1.4022\n",
      "Epoch 44/100\n",
      "10/10 [==============================] - 0s 12ms/step - loss: 1.4257 - val_loss: 1.3797\n",
      "Epoch 45/100\n",
      "10/10 [==============================] - 0s 12ms/step - loss: 1.4284 - val_loss: 1.3793\n",
      "Epoch 46/100\n",
      "10/10 [==============================] - 0s 12ms/step - loss: 1.4210 - val_loss: 1.3884\n",
      "Epoch 47/100\n",
      "10/10 [==============================] - 0s 12ms/step - loss: 1.4115 - val_loss: 1.3991\n",
      "Epoch 48/100\n",
      "10/10 [==============================] - 0s 12ms/step - loss: 1.4076 - val_loss: 1.4099\n",
      "Epoch 49/100\n",
      "10/10 [==============================] - 0s 12ms/step - loss: 1.4097 - val_loss: 1.4284\n",
      "Epoch 50/100\n",
      "10/10 [==============================] - 0s 12ms/step - loss: 1.4119 - val_loss: 1.4203\n",
      "Epoch 51/100\n",
      "10/10 [==============================] - 0s 12ms/step - loss: 1.4091 - val_loss: 1.3937\n",
      "Epoch 52/100\n",
      "10/10 [==============================] - 0s 13ms/step - loss: 1.4049 - val_loss: 1.3854\n",
      "Epoch 53/100\n",
      "10/10 [==============================] - 0s 12ms/step - loss: 1.4056 - val_loss: 1.3917\n",
      "Epoch 54/100\n",
      "10/10 [==============================] - 0s 12ms/step - loss: 1.4100 - val_loss: 1.4244\n",
      "Epoch 55/100\n",
      "10/10 [==============================] - 0s 12ms/step - loss: 1.4159 - val_loss: 1.4334\n",
      "Epoch 56/100\n",
      "10/10 [==============================] - 0s 12ms/step - loss: 1.4130 - val_loss: 1.4099\n",
      "Epoch 57/100\n",
      "10/10 [==============================] - 0s 13ms/step - loss: 1.4088 - val_loss: 1.3874\n",
      "Epoch 58/100\n",
      "10/10 [==============================] - 0s 13ms/step - loss: 1.4071 - val_loss: 1.3652\n",
      "Epoch 59/100\n",
      "10/10 [==============================] - 0s 13ms/step - loss: 1.4146 - val_loss: 1.3612\n",
      "Epoch 60/100\n",
      "10/10 [==============================] - 0s 13ms/step - loss: 1.4126 - val_loss: 1.3664\n",
      "Epoch 61/100\n",
      "10/10 [==============================] - 0s 12ms/step - loss: 1.4086 - val_loss: 1.3741\n",
      "Epoch 62/100\n",
      "10/10 [==============================] - 0s 11ms/step - loss: 1.4046 - val_loss: 1.3809\n",
      "Epoch 63/100\n",
      "10/10 [==============================] - 0s 5ms/step - loss: 1.4033 - val_loss: 1.4008\n",
      "Epoch 64/100\n",
      "10/10 [==============================] - 0s 5ms/step - loss: 1.4077 - val_loss: 1.4067\n",
      "Epoch 65/100\n",
      "10/10 [==============================] - 0s 5ms/step - loss: 1.4081 - val_loss: 1.4045\n",
      "Epoch 66/100\n",
      "10/10 [==============================] - 0s 4ms/step - loss: 1.4047 - val_loss: 1.3948\n",
      "Epoch 67/100\n",
      "10/10 [==============================] - 0s 4ms/step - loss: 1.4020 - val_loss: 1.3834\n",
      "Epoch 68/100\n",
      "10/10 [==============================] - 0s 5ms/step - loss: 1.4018 - val_loss: 1.3696\n",
      "Epoch 69/100\n",
      "10/10 [==============================] - 0s 5ms/step - loss: 1.4053 - val_loss: 1.3762\n",
      "Epoch 70/100\n",
      "10/10 [==============================] - 0s 5ms/step - loss: 1.4023 - val_loss: 1.3848\n",
      "Epoch 71/100\n",
      "10/10 [==============================] - 0s 6ms/step - loss: 1.4002 - val_loss: 1.3864\n",
      "Epoch 72/100\n",
      "10/10 [==============================] - 0s 11ms/step - loss: 1.4030 - val_loss: 1.3757\n",
      "Epoch 73/100\n",
      "10/10 [==============================] - 0s 13ms/step - loss: 1.4041 - val_loss: 1.3795\n",
      "Epoch 74/100\n",
      "10/10 [==============================] - 0s 12ms/step - loss: 1.3988 - val_loss: 1.3874\n",
      "Epoch 75/100\n",
      "10/10 [==============================] - 0s 12ms/step - loss: 1.3967 - val_loss: 1.4074\n",
      "Epoch 76/100\n",
      "10/10 [==============================] - 0s 12ms/step - loss: 1.3986 - val_loss: 1.4077\n",
      "Epoch 77/100\n",
      "10/10 [==============================] - 0s 12ms/step - loss: 1.4017 - val_loss: 1.3864\n",
      "Epoch 78/100\n",
      "10/10 [==============================] - 0s 12ms/step - loss: 1.4015 - val_loss: 1.4020\n",
      "Epoch 79/100\n",
      "10/10 [==============================] - 0s 11ms/step - loss: 1.4096 - val_loss: 1.4129\n",
      "Epoch 80/100\n",
      "10/10 [==============================] - 0s 13ms/step - loss: 1.4077 - val_loss: 1.4067\n",
      "Epoch 81/100\n",
      "10/10 [==============================] - 0s 13ms/step - loss: 1.4028 - val_loss: 1.3944\n",
      "Epoch 82/100\n",
      "10/10 [==============================] - 0s 12ms/step - loss: 1.4016 - val_loss: 1.3957\n",
      "Epoch 83/100\n",
      "10/10 [==============================] - 0s 12ms/step - loss: 1.4036 - val_loss: 1.3930\n",
      "Epoch 84/100\n",
      "10/10 [==============================] - 0s 12ms/step - loss: 1.4007 - val_loss: 1.4023\n",
      "Epoch 85/100\n",
      "10/10 [==============================] - 0s 13ms/step - loss: 1.3990 - val_loss: 1.4025\n",
      "Epoch 86/100\n",
      "10/10 [==============================] - 0s 12ms/step - loss: 1.3988 - val_loss: 1.4016\n",
      "Epoch 87/100\n",
      "10/10 [==============================] - 0s 13ms/step - loss: 1.3970 - val_loss: 1.4070\n",
      "Epoch 88/100\n",
      "10/10 [==============================] - 0s 12ms/step - loss: 1.3967 - val_loss: 1.4219\n",
      "Epoch 89/100\n",
      "10/10 [==============================] - 0s 12ms/step - loss: 1.4014 - val_loss: 1.4171\n",
      "Epoch 90/100\n",
      "10/10 [==============================] - 0s 12ms/step - loss: 1.3974 - val_loss: 1.3835\n",
      "Epoch 91/100\n",
      "10/10 [==============================] - 0s 12ms/step - loss: 1.3999 - val_loss: 1.3756\n",
      "Epoch 92/100\n",
      "10/10 [==============================] - 0s 12ms/step - loss: 1.4028 - val_loss: 1.3802\n",
      "Epoch 93/100\n",
      "10/10 [==============================] - 0s 13ms/step - loss: 1.3988 - val_loss: 1.3852\n",
      "Epoch 94/100\n",
      "10/10 [==============================] - 0s 11ms/step - loss: 1.3971 - val_loss: 1.3953\n",
      "Epoch 95/100\n",
      "10/10 [==============================] - 0s 10ms/step - loss: 1.4007 - val_loss: 1.4040\n",
      "Epoch 96/100\n",
      "10/10 [==============================] - 0s 10ms/step - loss: 1.3988 - val_loss: 1.3949\n",
      "Epoch 97/100\n",
      "10/10 [==============================] - 0s 9ms/step - loss: 1.4049 - val_loss: 1.3822\n",
      "Epoch 98/100\n",
      "10/10 [==============================] - 0s 9ms/step - loss: 1.4073 - val_loss: 1.3850\n",
      "Epoch 99/100\n",
      "10/10 [==============================] - 0s 11ms/step - loss: 1.3945 - val_loss: 1.4090\n",
      "Epoch 100/100\n",
      "10/10 [==============================] - 0s 12ms/step - loss: 1.3972 - val_loss: 1.4025\n"
     ]
    }
   ],
   "source": [
    "hist1 = nn1.fit(x_train, y_train, validation_data=(x_test, y_test),\n",
    "        batch_size=100, epochs=100, verbose=1) #обучение происходить обычно пачками данных (не целиком), когда они закончились - прошла эпоха"
   ]
  },
  {
   "cell_type": "code",
   "execution_count": 138,
   "metadata": {},
   "outputs": [
    {
     "name": "stdout",
     "output_type": "stream",
     "text": [
      "8/8 [==============================] - 0s 1ms/step\n"
     ]
    }
   ],
   "source": [
    "y_pred = nn1.predict(x_test)"
   ]
  },
  {
   "cell_type": "code",
   "execution_count": 139,
   "metadata": {},
   "outputs": [],
   "source": [
    "from sklearn import metrics as s_metrics"
   ]
  },
  {
   "cell_type": "code",
   "execution_count": 140,
   "metadata": {},
   "outputs": [
    {
     "name": "stdout",
     "output_type": "stream",
     "text": [
      "29/29 [==============================] - 0s 871us/step\n",
      "Тренировочный набор R2 0.6812999571553071\n",
      "Тестовый набор R2 0.6816906736906896\n"
     ]
    }
   ],
   "source": [
    "print('Тренировочный набор R2',s_metrics.r2_score(y_train, nn1.predict(x_train)))\n",
    "print('Тестовый набор R2',s_metrics.r2_score(y_test,y_pred))"
   ]
  },
  {
   "cell_type": "code",
   "execution_count": 141,
   "metadata": {},
   "outputs": [
    {
     "data": {
      "image/png": "[encoded data removed]",
      "text/plain": [
       "<Figure size 500x500 with 1 Axes>"
      ]
     },
     "metadata": {},
     "output_type": "display_data"
    }
   ],
   "source": [
    "fig, ax = plt.subplots(figsize=(5,5)) # строим кривые обучения\n",
    "ax.plot(hist1.history['loss'])# потери для тренировочного набора\n",
    "ax.plot(hist1.history['val_loss']) # потери для тестого набора\n",
    "\n",
    "plt.tight_layout()\n",
    "plt.show()"
   ]
  },
  {
   "cell_type": "code",
   "execution_count": 142,
   "metadata": {},
   "outputs": [
    {
     "name": "stdout",
     "output_type": "stream",
     "text": [
      "29/29 [==============================] - 0s 857us/step\n"
     ]
    },
    {
     "data": {
      "image/png": "[encoded data removed]",
      "text/plain": [
       "<Figure size 500x500 with 1 Axes>"
      ]
     },
     "metadata": {},
     "output_type": "display_data"
    }
   ],
   "source": [
    "fig, ax = plt.subplots(figsize=(5,5))\n",
    "\n",
    "ax.plot(y_train, nn1.predict(x_train), 'bo', alpha=0.5)\n",
    "ax.plot(y_test, y_pred, 'rs', alpha=0.5)\n",
    "\n",
    "ax.plot([-12,2], [-12,2], 'k-')\n",
    "\n",
    "ax.set_xlim((-12,2))\n",
    "ax.set_ylim((-12,2))\n",
    "\n",
    "plt.tight_layout()\n",
    "plt.show()"
   ]
  },
  {
   "attachments": {},
   "cell_type": "markdown",
   "metadata": {},
   "source": [
    "# Различие архитектуры нейронных сетей\n",
    "\n",
    "Для начала ещё два механизма для устранения переобучения:\n",
    "\n",
    "1) Слой DropOut - выключает некоторую долю нейронов в следующем слое во время обучения (не предсказания) (допустим треть нейронов из этого слоя)\n",
    "\n",
    "Так слой становиться более сбалансированный, так как каждый будет участвовать в обучении \n",
    "\n",
    "2) Слой BathNormalization - нормализует входящие в него веса, что всё подделать получше"
   ]
  },
  {
   "cell_type": "code",
   "execution_count": 143,
   "metadata": {},
   "outputs": [],
   "source": [
    "#Dropout\n",
    "from tensorflow.keras.layers import Dropout\n",
    "nn2 = Sequential() # сгенирили прямоходную модель\n",
    "nn2.add(Dense(20, input_dim=5)) # генерим слои + вводим на первый раз кол-во исходных данных\n",
    "nn2.add(Dropout(0.2))\n",
    "nn2.add(Dense(20))\n",
    "nn2.add(Dropout(0.33))\n",
    "nn2.add(Dense(3))\n",
    "nn2.add(Dense(1))"
   ]
  },
  {
   "cell_type": "code",
   "execution_count": 144,
   "metadata": {},
   "outputs": [
    {
     "name": "stdout",
     "output_type": "stream",
     "text": [
      "Epoch 1/60\n",
      "10/10 [==============================] - 1s 21ms/step - loss: 12.9973 - val_loss: 12.8454\n",
      "Epoch 2/60\n",
      "10/10 [==============================] - 0s 5ms/step - loss: 11.6027 - val_loss: 11.3913\n",
      "Epoch 3/60\n",
      "10/10 [==============================] - 0s 6ms/step - loss: 10.0540 - val_loss: 10.1368\n",
      "Epoch 4/60\n",
      "10/10 [==============================] - 0s 6ms/step - loss: 9.1033 - val_loss: 8.9902\n",
      "Epoch 5/60\n",
      "10/10 [==============================] - 0s 8ms/step - loss: 8.2924 - val_loss: 7.9186\n",
      "Epoch 6/60\n",
      "10/10 [==============================] - 0s 9ms/step - loss: 7.2364 - val_loss: 6.9535\n",
      "Epoch 7/60\n",
      "10/10 [==============================] - 0s 9ms/step - loss: 6.6823 - val_loss: 6.1137\n",
      "Epoch 8/60\n",
      "10/10 [==============================] - 0s 9ms/step - loss: 6.0626 - val_loss: 5.2907\n",
      "Epoch 9/60\n",
      "10/10 [==============================] - 0s 9ms/step - loss: 5.2889 - val_loss: 4.5229\n",
      "Epoch 10/60\n",
      "10/10 [==============================] - 0s 9ms/step - loss: 5.0789 - val_loss: 3.8457\n",
      "Epoch 11/60\n",
      "10/10 [==============================] - 0s 9ms/step - loss: 4.1959 - val_loss: 3.2903\n",
      "Epoch 12/60\n",
      "10/10 [==============================] - 0s 11ms/step - loss: 3.7882 - val_loss: 2.8682\n",
      "Epoch 13/60\n",
      "10/10 [==============================] - 0s 11ms/step - loss: 3.4399 - val_loss: 2.4645\n",
      "Epoch 14/60\n",
      "10/10 [==============================] - 0s 14ms/step - loss: 2.9111 - val_loss: 2.1691\n",
      "Epoch 15/60\n",
      "10/10 [==============================] - 0s 14ms/step - loss: 3.0897 - val_loss: 1.9650\n",
      "Epoch 16/60\n",
      "10/10 [==============================] - 0s 13ms/step - loss: 2.8555 - val_loss: 1.7954\n",
      "Epoch 17/60\n",
      "10/10 [==============================] - 0s 13ms/step - loss: 2.4566 - val_loss: 1.6534\n",
      "Epoch 18/60\n",
      "10/10 [==============================] - 0s 14ms/step - loss: 2.7830 - val_loss: 1.5811\n",
      "Epoch 19/60\n",
      "10/10 [==============================] - 0s 13ms/step - loss: 2.7099 - val_loss: 1.5740\n",
      "Epoch 20/60\n",
      "10/10 [==============================] - 0s 13ms/step - loss: 2.3966 - val_loss: 1.5755\n",
      "Epoch 21/60\n",
      "10/10 [==============================] - 0s 13ms/step - loss: 2.7210 - val_loss: 1.6028\n",
      "Epoch 22/60\n",
      "10/10 [==============================] - 0s 10ms/step - loss: 2.5714 - val_loss: 1.5606\n",
      "Epoch 23/60\n",
      "10/10 [==============================] - 0s 6ms/step - loss: 2.5643 - val_loss: 1.5439\n",
      "Epoch 24/60\n",
      "10/10 [==============================] - 0s 5ms/step - loss: 2.6304 - val_loss: 1.5728\n",
      "Epoch 25/60\n",
      "10/10 [==============================] - 0s 5ms/step - loss: 2.5189 - val_loss: 1.6136\n",
      "Epoch 26/60\n",
      "10/10 [==============================] - 0s 7ms/step - loss: 2.6234 - val_loss: 1.6212\n",
      "Epoch 27/60\n",
      "10/10 [==============================] - 0s 13ms/step - loss: 2.5417 - val_loss: 1.5821\n",
      "Epoch 28/60\n",
      "10/10 [==============================] - 0s 9ms/step - loss: 2.4839 - val_loss: 1.5116\n",
      "Epoch 29/60\n",
      "10/10 [==============================] - 0s 10ms/step - loss: 2.5124 - val_loss: 1.5113\n",
      "Epoch 30/60\n",
      "10/10 [==============================] - 0s 13ms/step - loss: 2.3747 - val_loss: 1.5325\n",
      "Epoch 31/60\n",
      "10/10 [==============================] - 0s 12ms/step - loss: 2.4782 - val_loss: 1.6540\n",
      "Epoch 32/60\n",
      "10/10 [==============================] - 0s 12ms/step - loss: 2.6082 - val_loss: 1.7535\n",
      "Epoch 33/60\n",
      "10/10 [==============================] - 0s 13ms/step - loss: 2.3066 - val_loss: 1.6722\n",
      "Epoch 34/60\n",
      "10/10 [==============================] - 0s 13ms/step - loss: 2.2518 - val_loss: 1.5617\n",
      "Epoch 35/60\n",
      "10/10 [==============================] - 0s 13ms/step - loss: 2.2385 - val_loss: 1.5288\n",
      "Epoch 36/60\n",
      "10/10 [==============================] - 0s 13ms/step - loss: 2.3146 - val_loss: 1.5173\n",
      "Epoch 37/60\n",
      "10/10 [==============================] - 0s 13ms/step - loss: 2.2949 - val_loss: 1.5350\n",
      "Epoch 38/60\n",
      "10/10 [==============================] - 0s 17ms/step - loss: 2.1996 - val_loss: 1.5146\n",
      "Epoch 39/60\n",
      "10/10 [==============================] - 0s 14ms/step - loss: 1.9346 - val_loss: 1.5183\n",
      "Epoch 40/60\n",
      "10/10 [==============================] - 0s 14ms/step - loss: 2.0845 - val_loss: 1.5557\n",
      "Epoch 41/60\n",
      "10/10 [==============================] - 0s 13ms/step - loss: 2.3286 - val_loss: 1.5984\n",
      "Epoch 42/60\n",
      "10/10 [==============================] - 0s 13ms/step - loss: 2.2898 - val_loss: 1.5966\n",
      "Epoch 43/60\n",
      "10/10 [==============================] - 0s 13ms/step - loss: 2.4001 - val_loss: 1.5477\n",
      "Epoch 44/60\n",
      "10/10 [==============================] - 0s 13ms/step - loss: 2.2794 - val_loss: 1.5464\n",
      "Epoch 45/60\n",
      "10/10 [==============================] - 0s 13ms/step - loss: 1.9765 - val_loss: 1.5237\n",
      "Epoch 46/60\n",
      "10/10 [==============================] - 0s 9ms/step - loss: 2.0150 - val_loss: 1.5370\n",
      "Epoch 47/60\n",
      "10/10 [==============================] - 0s 5ms/step - loss: 2.0346 - val_loss: 1.5088\n",
      "Epoch 48/60\n",
      "10/10 [==============================] - 0s 5ms/step - loss: 2.1552 - val_loss: 1.4926\n",
      "Epoch 49/60\n",
      "10/10 [==============================] - 0s 5ms/step - loss: 2.1989 - val_loss: 1.4842\n",
      "Epoch 50/60\n",
      "10/10 [==============================] - 0s 5ms/step - loss: 1.9968 - val_loss: 1.4675\n",
      "Epoch 51/60\n",
      "10/10 [==============================] - 0s 6ms/step - loss: 2.1347 - val_loss: 1.4348\n",
      "Epoch 52/60\n",
      "10/10 [==============================] - 0s 5ms/step - loss: 2.0820 - val_loss: 1.4646\n",
      "Epoch 53/60\n",
      "10/10 [==============================] - 0s 5ms/step - loss: 2.1080 - val_loss: 1.6285\n",
      "Epoch 54/60\n",
      "10/10 [==============================] - 0s 6ms/step - loss: 2.0641 - val_loss: 1.6103\n",
      "Epoch 55/60\n",
      "10/10 [==============================] - 0s 7ms/step - loss: 2.2209 - val_loss: 1.5413\n",
      "Epoch 56/60\n",
      "10/10 [==============================] - 0s 8ms/step - loss: 2.0752 - val_loss: 1.5782\n",
      "Epoch 57/60\n",
      "10/10 [==============================] - 0s 15ms/step - loss: 2.0380 - val_loss: 1.5358\n",
      "Epoch 58/60\n",
      "10/10 [==============================] - 0s 14ms/step - loss: 2.0406 - val_loss: 1.5157\n",
      "Epoch 59/60\n",
      "10/10 [==============================] - 0s 12ms/step - loss: 2.1718 - val_loss: 1.5541\n",
      "Epoch 60/60\n",
      "10/10 [==============================] - 0s 7ms/step - loss: 2.1003 - val_loss: 1.5399\n"
     ]
    }
   ],
   "source": [
    "nn2.compile(loss='mse', optimizer=Adam(learning_rate=0.001)) \n",
    "hist2 = nn2.fit(x_train, y_train, validation_data=(x_test, y_test),\n",
    "        batch_size=100, epochs=60, verbose=1) "
   ]
  },
  {
   "cell_type": "code",
   "execution_count": 145,
   "metadata": {},
   "outputs": [
    {
     "name": "stdout",
     "output_type": "stream",
     "text": [
      "8/8 [==============================] - 0s 1ms/step\n",
      "29/29 [==============================] - 0s 890us/step\n",
      "Тренировочный набор R2:  0.6682\n",
      "Тестовый набор R2:  0.6505\n"
     ]
    }
   ],
   "source": [
    "y_pred = nn2.predict(x_test)\n",
    "print(f'Тренировочный набор R2: {s_metrics.r2_score(y_train, nn2.predict(x_train)): .4f}')\n",
    "print(f'Тестовый набор R2: {s_metrics.r2_score(y_test,y_pred): .4f}')"
   ]
  },
  {
   "cell_type": "code",
   "execution_count": 146,
   "metadata": {},
   "outputs": [
    {
     "name": "stdout",
     "output_type": "stream",
     "text": [
      "Model: \"sequential_15\"\n",
      "_________________________________________________________________\n",
      " Layer (type)                Output Shape              Param #   \n",
      "=================================================================\n",
      " dense_47 (Dense)            (None, 20)                120       \n",
      "                                                                 \n",
      " dropout_34 (Dropout)        (None, 20)                0         \n",
      "                                                                 \n",
      " dense_48 (Dense)            (None, 20)                420       \n",
      "                                                                 \n",
      " dropout_35 (Dropout)        (None, 20)                0         \n",
      "                                                                 \n",
      " dense_49 (Dense)            (None, 3)                 63        \n",
      "                                                                 \n",
      " dense_50 (Dense)            (None, 1)                 4         \n",
      "                                                                 \n",
      "=================================================================\n",
      "Total params: 607\n",
      "Trainable params: 607\n",
      "Non-trainable params: 0\n",
      "_________________________________________________________________\n",
      "None\n"
     ]
    }
   ],
   "source": [
    "print(nn2.summary()) #возвращает некотрую общую информацию о модели"
   ]
  },
  {
   "cell_type": "code",
   "execution_count": 147,
   "metadata": {},
   "outputs": [],
   "source": [
    "#BaBatchNormalization\n",
    "from tensorflow.keras.layers import BatchNormalization\n",
    "nn3 = Sequential() # сгенирили прямоходную модель\n",
    "nn3.add(Dense(50, input_dim=5)) # генерим слои + вводим на первый раз кол-во исходных данных\n",
    "nn3.add(Dropout(0.2))\n",
    "nn3.add(Dense(50))\n",
    "nn3.add(Dropout(0.33))\n",
    "nn3.add(BatchNormalization())\n",
    "nn3.add(Dense(3))\n",
    "nn3.add(Dense(1))"
   ]
  },
  {
   "cell_type": "code",
   "execution_count": 148,
   "metadata": {},
   "outputs": [
    {
     "name": "stdout",
     "output_type": "stream",
     "text": [
      "Epoch 1/60\n",
      "10/10 [==============================] - 1s 26ms/step - loss: 14.0656 - val_loss: 12.5059\n",
      "Epoch 2/60\n",
      "10/10 [==============================] - 0s 6ms/step - loss: 10.7124 - val_loss: 10.9228\n",
      "Epoch 3/60\n",
      "10/10 [==============================] - 0s 7ms/step - loss: 10.0342 - val_loss: 10.0772\n",
      "Epoch 4/60\n",
      "10/10 [==============================] - 0s 6ms/step - loss: 9.4548 - val_loss: 9.3424\n",
      "Epoch 5/60\n",
      "10/10 [==============================] - 0s 6ms/step - loss: 8.7559 - val_loss: 8.7606\n",
      "Epoch 6/60\n",
      "10/10 [==============================] - 0s 6ms/step - loss: 8.4418 - val_loss: 8.1878\n",
      "Epoch 7/60\n",
      "10/10 [==============================] - 0s 5ms/step - loss: 7.4208 - val_loss: 7.5329\n",
      "Epoch 8/60\n",
      "10/10 [==============================] - 0s 6ms/step - loss: 6.8649 - val_loss: 6.8964\n",
      "Epoch 9/60\n",
      "10/10 [==============================] - 0s 6ms/step - loss: 6.6786 - val_loss: 6.3229\n",
      "Epoch 10/60\n",
      "10/10 [==============================] - 0s 6ms/step - loss: 6.0311 - val_loss: 5.6302\n",
      "Epoch 11/60\n",
      "10/10 [==============================] - 0s 5ms/step - loss: 5.4478 - val_loss: 5.0060\n",
      "Epoch 12/60\n",
      "10/10 [==============================] - 0s 6ms/step - loss: 4.8962 - val_loss: 4.5180\n",
      "Epoch 13/60\n",
      "10/10 [==============================] - 0s 5ms/step - loss: 4.6421 - val_loss: 3.9281\n",
      "Epoch 14/60\n",
      "10/10 [==============================] - 0s 6ms/step - loss: 4.1131 - val_loss: 3.5287\n",
      "Epoch 15/60\n",
      "10/10 [==============================] - 0s 16ms/step - loss: 3.9588 - val_loss: 3.1031\n",
      "Epoch 16/60\n",
      "10/10 [==============================] - 0s 15ms/step - loss: 3.5654 - val_loss: 2.7379\n",
      "Epoch 17/60\n",
      "10/10 [==============================] - 0s 16ms/step - loss: 3.1608 - val_loss: 2.4197\n",
      "Epoch 18/60\n",
      "10/10 [==============================] - 0s 16ms/step - loss: 3.4018 - val_loss: 2.1613\n",
      "Epoch 19/60\n",
      "10/10 [==============================] - 0s 16ms/step - loss: 3.2008 - val_loss: 2.1469\n",
      "Epoch 20/60\n",
      "10/10 [==============================] - 0s 17ms/step - loss: 2.9341 - val_loss: 2.0051\n",
      "Epoch 21/60\n",
      "10/10 [==============================] - 0s 16ms/step - loss: 2.5318 - val_loss: 1.8030\n",
      "Epoch 22/60\n",
      "10/10 [==============================] - 0s 16ms/step - loss: 2.6470 - val_loss: 1.7639\n",
      "Epoch 23/60\n",
      "10/10 [==============================] - 0s 15ms/step - loss: 2.5156 - val_loss: 1.6995\n",
      "Epoch 24/60\n",
      "10/10 [==============================] - 0s 16ms/step - loss: 2.5240 - val_loss: 1.6287\n",
      "Epoch 25/60\n",
      "10/10 [==============================] - 0s 21ms/step - loss: 2.8256 - val_loss: 1.5895\n",
      "Epoch 26/60\n",
      "10/10 [==============================] - 0s 17ms/step - loss: 2.6861 - val_loss: 1.6186\n",
      "Epoch 27/60\n",
      "10/10 [==============================] - 0s 6ms/step - loss: 2.5342 - val_loss: 1.6360\n",
      "Epoch 28/60\n",
      "10/10 [==============================] - 0s 6ms/step - loss: 2.4978 - val_loss: 1.6263\n",
      "Epoch 29/60\n",
      "10/10 [==============================] - 0s 6ms/step - loss: 2.3094 - val_loss: 1.5349\n",
      "Epoch 30/60\n",
      "10/10 [==============================] - 0s 6ms/step - loss: 2.4946 - val_loss: 1.5116\n",
      "Epoch 31/60\n",
      "10/10 [==============================] - 0s 6ms/step - loss: 2.4225 - val_loss: 1.5159\n",
      "Epoch 32/60\n",
      "10/10 [==============================] - 0s 5ms/step - loss: 2.2539 - val_loss: 1.5225\n",
      "Epoch 33/60\n",
      "10/10 [==============================] - 0s 6ms/step - loss: 2.3260 - val_loss: 1.5627\n",
      "Epoch 34/60\n",
      "10/10 [==============================] - 0s 6ms/step - loss: 2.3688 - val_loss: 1.5583\n",
      "Epoch 35/60\n",
      "10/10 [==============================] - 0s 6ms/step - loss: 2.3815 - val_loss: 1.5384\n",
      "Epoch 36/60\n",
      "10/10 [==============================] - 0s 6ms/step - loss: 2.2167 - val_loss: 1.4957\n",
      "Epoch 37/60\n",
      "10/10 [==============================] - 0s 6ms/step - loss: 2.1744 - val_loss: 1.4537\n",
      "Epoch 38/60\n",
      "10/10 [==============================] - 0s 8ms/step - loss: 2.3402 - val_loss: 1.4601\n",
      "Epoch 39/60\n",
      "10/10 [==============================] - 0s 6ms/step - loss: 2.3265 - val_loss: 1.5339\n",
      "Epoch 40/60\n",
      "10/10 [==============================] - 0s 5ms/step - loss: 2.4114 - val_loss: 1.4788\n",
      "Epoch 41/60\n",
      "10/10 [==============================] - 0s 6ms/step - loss: 2.2687 - val_loss: 1.4199\n",
      "Epoch 42/60\n",
      "10/10 [==============================] - 0s 6ms/step - loss: 2.2073 - val_loss: 1.4511\n",
      "Epoch 43/60\n",
      "10/10 [==============================] - 0s 5ms/step - loss: 2.1322 - val_loss: 1.4486\n",
      "Epoch 44/60\n",
      "10/10 [==============================] - 0s 5ms/step - loss: 2.2541 - val_loss: 1.4058\n",
      "Epoch 45/60\n",
      "10/10 [==============================] - 0s 6ms/step - loss: 2.1159 - val_loss: 1.4316\n",
      "Epoch 46/60\n",
      "10/10 [==============================] - 0s 14ms/step - loss: 2.1146 - val_loss: 1.4462\n",
      "Epoch 47/60\n",
      "10/10 [==============================] - 0s 15ms/step - loss: 2.2557 - val_loss: 1.4816\n",
      "Epoch 48/60\n",
      "10/10 [==============================] - 0s 14ms/step - loss: 2.1170 - val_loss: 1.4748\n",
      "Epoch 49/60\n",
      "10/10 [==============================] - 0s 15ms/step - loss: 1.9806 - val_loss: 1.4763\n",
      "Epoch 50/60\n",
      "10/10 [==============================] - 0s 14ms/step - loss: 1.9974 - val_loss: 1.4210\n",
      "Epoch 51/60\n",
      "10/10 [==============================] - 0s 14ms/step - loss: 1.9801 - val_loss: 1.4175\n",
      "Epoch 52/60\n",
      "10/10 [==============================] - 0s 15ms/step - loss: 2.1039 - val_loss: 1.4230\n",
      "Epoch 53/60\n",
      "10/10 [==============================] - 0s 15ms/step - loss: 2.0025 - val_loss: 1.4474\n",
      "Epoch 54/60\n",
      "10/10 [==============================] - 0s 15ms/step - loss: 1.9662 - val_loss: 1.4757\n",
      "Epoch 55/60\n",
      "10/10 [==============================] - 0s 15ms/step - loss: 2.0456 - val_loss: 1.4643\n",
      "Epoch 56/60\n",
      "10/10 [==============================] - 0s 14ms/step - loss: 2.2205 - val_loss: 1.4852\n",
      "Epoch 57/60\n",
      "10/10 [==============================] - 0s 14ms/step - loss: 2.2547 - val_loss: 1.5049\n",
      "Epoch 58/60\n",
      "10/10 [==============================] - 0s 15ms/step - loss: 2.0361 - val_loss: 1.4784\n",
      "Epoch 59/60\n",
      "10/10 [==============================] - 0s 15ms/step - loss: 1.8779 - val_loss: 1.4881\n",
      "Epoch 60/60\n",
      "10/10 [==============================] - 0s 17ms/step - loss: 2.1895 - val_loss: 1.4957\n"
     ]
    }
   ],
   "source": [
    "nn3.compile(loss='mse', optimizer=Adam(learning_rate=0.001)) \n",
    "hist2 = nn3.fit(x_train, y_train, validation_data=(x_test, y_test),\n",
    "        batch_size=100, epochs=60, verbose=1)\n"
   ]
  },
  {
   "cell_type": "code",
   "execution_count": 149,
   "metadata": {},
   "outputs": [
    {
     "name": "stdout",
     "output_type": "stream",
     "text": [
      "8/8 [==============================] - 0s 3ms/step\n",
      "29/29 [==============================] - 0s 1ms/step\n",
      "Тренировочный набор R2:  0.6717\n",
      "Тестовый набор R2:  0.6605\n"
     ]
    }
   ],
   "source": [
    "y_pred = nn3.predict(x_test)\n",
    "print(f'Тренировочный набор R2: {s_metrics.r2_score(y_train, nn3.predict(x_train)): .4f}')\n",
    "print(f'Тестовый набор R2: {s_metrics.r2_score(y_test,y_pred): .4f}')"
   ]
  },
  {
   "attachments": {},
   "cell_type": "markdown",
   "metadata": {},
   "source": [
    "## Рекуррентные сети (LSTM)\n",
    "\n",
    "Может использовать данные уже обработанные и новые одновременно"
   ]
  },
  {
   "cell_type": "code",
   "execution_count": 150,
   "metadata": {},
   "outputs": [
    {
     "name": "stdout",
     "output_type": "stream",
     "text": [
      "Requirement already satisfied: rdkit-pypi in c:\\users\\hipor\\projects\\.venv\\lib\\site-packages (2022.9.5)\n",
      "Requirement already satisfied: numpy in c:\\users\\hipor\\projects\\.venv\\lib\\site-packages (from rdkit-pypi) (1.23.5)\n",
      "Requirement already satisfied: Pillow in c:\\users\\hipor\\projects\\.venv\\lib\\site-packages (from rdkit-pypi) (9.4.0)\n"
     ]
    },
    {
     "name": "stderr",
     "output_type": "stream",
     "text": [
      "\n",
      "[notice] A new release of pip is available: 23.0.1 -> 23.1.1\n",
      "[notice] To update, run: python.exe -m pip install --upgrade pip\n"
     ]
    }
   ],
   "source": [
    "!pip install rdkit-pypi\n",
    "from rdkit import Chem, DataStructs\n",
    "from rdkit.Chem import Draw, AllChem, PandasTools, Descriptors\n",
    "from rdkit.Chem.Draw import IPythonConsole"
   ]
  },
  {
   "cell_type": "code",
   "execution_count": 151,
   "metadata": {},
   "outputs": [],
   "source": [
    "with open('10k_rndm_zinc_drugs_clean.txt') as f:\n",
    "    raw_text = '\\n'.join(line.strip() for line in f)"
   ]
  },
  {
   "cell_type": "code",
   "execution_count": 152,
   "metadata": {},
   "outputs": [
    {
     "name": "stdout",
     "output_type": "stream",
     "text": [
      "453342\n"
     ]
    }
   ],
   "source": [
    "print(len(raw_text))"
   ]
  },
  {
   "cell_type": "code",
   "execution_count": 153,
   "metadata": {},
   "outputs": [
    {
     "name": "stdout",
     "output_type": "stream",
     "text": [
      "['\\n', '#', '(', ')', '+', '-', '/', '1', '2', '3', '4', '5', '6', '7', '=', '@', 'B', 'C', 'F', 'H', 'I', 'N', 'O', 'P', 'S', '[', '\\\\', ']', 'c', 'l', 'n', 'o', 'r', 's']\n"
     ]
    }
   ],
   "source": [
    "un_chars = sorted(list(set(raw_text)))\n",
    "print(un_chars)"
   ]
  },
  {
   "cell_type": "code",
   "execution_count": 154,
   "metadata": {},
   "outputs": [],
   "source": [
    "char_to_int = dict((c,i) for i, c in enumerate(un_chars))\n",
    "\n",
    "\n",
    "\n",
    "\n",
    "int_to_char = dict((i,c) for i, c in enumerate(un_chars))\n",
    "char_to_int.update({-1:'\\n'})\n",
    "int_to_char.update({'\\n':-1})\n"
   ]
  },
  {
   "cell_type": "code",
   "execution_count": 155,
   "metadata": {},
   "outputs": [],
   "source": [
    "seq_l = 137\n",
    "dataX = []\n",
    "dataY = []\n",
    "for i in range(len(raw_text)-seq_l):\n",
    "    s_in = raw_text[i:i+seq_l]\n",
    "    s_out = raw_text[i+seq_l]\n",
    "    dataX.append([char_to_int[c] for c in s_in])\n",
    "    dataY.append(char_to_int[s_out])\n"
   ]
  },
  {
   "cell_type": "code",
   "execution_count": 156,
   "metadata": {},
   "outputs": [
    {
     "name": "stdout",
     "output_type": "stream",
     "text": [
      "453205\n"
     ]
    }
   ],
   "source": [
    "n_pat = len(dataX)\n",
    "print(n_pat)"
   ]
  },
  {
   "cell_type": "code",
   "execution_count": 157,
   "metadata": {},
   "outputs": [],
   "source": [
    "X = np.reshape(dataX, (n_pat, seq_l, 1))"
   ]
  },
  {
   "cell_type": "code",
   "execution_count": 158,
   "metadata": {},
   "outputs": [],
   "source": [
    "X = X/len(un_chars)"
   ]
  },
  {
   "cell_type": "code",
   "execution_count": 159,
   "metadata": {},
   "outputs": [],
   "source": [
    "from keras.utils import np_utils\n",
    "Y = np_utils.to_categorical(dataY) #превращает сет категариальных данных в дампис (матрица квадратная с нулями и единицами)"
   ]
  },
  {
   "cell_type": "code",
   "execution_count": 160,
   "metadata": {},
   "outputs": [],
   "source": [
    "from tensorflow.keras.layers import LSTM\n",
    "nn4 = Sequential() # сгенирили прямоходную модель\n",
    "nn4.add(LSTM(64, input_shape=(X.shape[1], X.shape[0]), return_sequences=True)) # генерим слои + вводим на первый раз кол-во исходных данных\n",
    "nn4.add(Dropout(0.2))\n",
    "nn4.add(LSTM(128, return_sequences=True))\n",
    "nn4.add(Dropout(0.2))\n",
    "nn4.add(LSTM(256, return_sequences=True))\n",
    "nn4.add(Dropout(0.2))\n",
    "nn4.add(LSTM(128, return_sequences=True))\n",
    "nn4.add(Dropout(0.2))\n",
    "nn4.add(LSTM(64))\n",
    "nn4.add(Dropout(0.2))\n",
    "nn4.add(Dense(Y.shape[1], activation='softmax'))"
   ]
  },
  {
   "cell_type": "code",
   "execution_count": 161,
   "metadata": {},
   "outputs": [
    {
     "name": "stdout",
     "output_type": "stream",
     "text": [
      "Model: \"sequential_17\"\n",
      "_________________________________________________________________\n",
      " Layer (type)                Output Shape              Param #   \n",
      "=================================================================\n",
      " lstm_16 (LSTM)              (None, 137, 64)           116037120 \n",
      "                                                                 \n",
      " dropout_38 (Dropout)        (None, 137, 64)           0         \n",
      "                                                                 \n",
      " lstm_17 (LSTM)              (None, 137, 128)          98816     \n",
      "                                                                 \n",
      " dropout_39 (Dropout)        (None, 137, 128)          0         \n",
      "                                                                 \n",
      " lstm_18 (LSTM)              (None, 137, 256)          394240    \n",
      "                                                                 \n",
      " dropout_40 (Dropout)        (None, 137, 256)          0         \n",
      "                                                                 \n",
      " lstm_19 (LSTM)              (None, 137, 128)          197120    \n",
      "                                                                 \n",
      " dropout_41 (Dropout)        (None, 137, 128)          0         \n",
      "                                                                 \n",
      " lstm_20 (LSTM)              (None, 64)                49408     \n",
      "                                                                 \n",
      " dropout_42 (Dropout)        (None, 64)                0         \n",
      "                                                                 \n",
      " dense_55 (Dense)            (None, 34)                2210      \n",
      "                                                                 \n",
      "=================================================================\n",
      "Total params: 116,778,914\n",
      "Trainable params: 116,778,914\n",
      "Non-trainable params: 0\n",
      "_________________________________________________________________\n",
      "None\n"
     ]
    }
   ],
   "source": [
    "print(nn4.summary())"
   ]
  },
  {
   "cell_type": "code",
   "execution_count": 162,
   "metadata": {},
   "outputs": [],
   "source": [
    "from keras.callbacks import ModelCheckpoint\n",
    "Charlie = ModelCheckpoint('weight', verbose=1)\n",
    "nn4.compile(loss='categorical_crossentropy', optimizer=Adam(learning_rate=0.001)) "
   ]
  },
  {
   "cell_type": "code",
   "execution_count": 163,
   "metadata": {},
   "outputs": [
    {
     "name": "stdout",
     "output_type": "stream",
     "text": [
      "Epoch 1/10\n"
     ]
    },
    {
     "ename": "ValueError",
     "evalue": "in user code:\n\n    File \"c:\\Users\\Hipor\\projects\\.venv\\Lib\\site-packages\\keras\\engine\\training.py\", line 1284, in train_function  *\n        return step_function(self, iterator)\n    File \"c:\\Users\\Hipor\\projects\\.venv\\Lib\\site-packages\\keras\\engine\\training.py\", line 1268, in step_function  **\n        outputs = model.distribute_strategy.run(run_step, args=(data,))\n    File \"c:\\Users\\Hipor\\projects\\.venv\\Lib\\site-packages\\keras\\engine\\training.py\", line 1249, in run_step  **\n        outputs = model.train_step(data)\n    File \"c:\\Users\\Hipor\\projects\\.venv\\Lib\\site-packages\\keras\\engine\\training.py\", line 1050, in train_step\n        y_pred = self(x, training=True)\n    File \"c:\\Users\\Hipor\\projects\\.venv\\Lib\\site-packages\\keras\\utils\\traceback_utils.py\", line 70, in error_handler\n        raise e.with_traceback(filtered_tb) from None\n    File \"c:\\Users\\Hipor\\projects\\.venv\\Lib\\site-packages\\keras\\engine\\input_spec.py\", line 298, in assert_input_compatibility\n        raise ValueError(\n\n    ValueError: Exception encountered when calling layer 'sequential_17' (type Sequential).\n    \n    Input 0 of layer \"lstm_16\" is incompatible with the layer: expected shape=(None, None, 453205), found shape=(None, 137, 1)\n    \n    Call arguments received by layer 'sequential_17' (type Sequential):\n      • inputs=tf.Tensor(shape=(None, 137, 1), dtype=float32)\n      • training=True\n      • mask=None\n",
     "output_type": "error",
     "traceback": [
      "\u001b[1;31m---------------------------------------------------------------------------\u001b[0m",
      "\u001b[1;31mValueError\u001b[0m                                Traceback (most recent call last)",
      "Cell \u001b[1;32mIn[163], line 1\u001b[0m\n\u001b[1;32m----> 1\u001b[0m hist4 \u001b[39m=\u001b[39m nn4\u001b[39m.\u001b[39;49mfit(X, Y, batch_size\u001b[39m=\u001b[39;49m\u001b[39m1024\u001b[39;49m, epochs\u001b[39m=\u001b[39;49m\u001b[39m10\u001b[39;49m, verbose\u001b[39m=\u001b[39;49m\u001b[39m1\u001b[39;49m, callbacks\u001b[39m=\u001b[39;49m[Charlie])\n",
      "File \u001b[1;32mc:\\Users\\Hipor\\projects\\.venv\\Lib\\site-packages\\keras\\utils\\traceback_utils.py:70\u001b[0m, in \u001b[0;36mfilter_traceback.<locals>.error_handler\u001b[1;34m(*args, **kwargs)\u001b[0m\n\u001b[0;32m     67\u001b[0m     filtered_tb \u001b[39m=\u001b[39m _process_traceback_frames(e\u001b[39m.\u001b[39m__traceback__)\n\u001b[0;32m     68\u001b[0m     \u001b[39m# To get the full stack trace, call:\u001b[39;00m\n\u001b[0;32m     69\u001b[0m     \u001b[39m# `tf.debugging.disable_traceback_filtering()`\u001b[39;00m\n\u001b[1;32m---> 70\u001b[0m     \u001b[39mraise\u001b[39;00m e\u001b[39m.\u001b[39mwith_traceback(filtered_tb) \u001b[39mfrom\u001b[39;00m \u001b[39mNone\u001b[39m\n\u001b[0;32m     71\u001b[0m \u001b[39mfinally\u001b[39;00m:\n\u001b[0;32m     72\u001b[0m     \u001b[39mdel\u001b[39;00m filtered_tb\n",
      "File \u001b[1;32m~\\AppData\\Local\\Temp\\__autograph_generated_file2t0y6g45.py:15\u001b[0m, in \u001b[0;36mouter_factory.<locals>.inner_factory.<locals>.tf__train_function\u001b[1;34m(iterator)\u001b[0m\n\u001b[0;32m     13\u001b[0m \u001b[39mtry\u001b[39;00m:\n\u001b[0;32m     14\u001b[0m     do_return \u001b[39m=\u001b[39m \u001b[39mTrue\u001b[39;00m\n\u001b[1;32m---> 15\u001b[0m     retval_ \u001b[39m=\u001b[39m ag__\u001b[39m.\u001b[39mconverted_call(ag__\u001b[39m.\u001b[39mld(step_function), (ag__\u001b[39m.\u001b[39mld(\u001b[39mself\u001b[39m), ag__\u001b[39m.\u001b[39mld(iterator)), \u001b[39mNone\u001b[39;00m, fscope)\n\u001b[0;32m     16\u001b[0m \u001b[39mexcept\u001b[39;00m:\n\u001b[0;32m     17\u001b[0m     do_return \u001b[39m=\u001b[39m \u001b[39mFalse\u001b[39;00m\n",
      "\u001b[1;31mValueError\u001b[0m: in user code:\n\n    File \"c:\\Users\\Hipor\\projects\\.venv\\Lib\\site-packages\\keras\\engine\\training.py\", line 1284, in train_function  *\n        return step_function(self, iterator)\n    File \"c:\\Users\\Hipor\\projects\\.venv\\Lib\\site-packages\\keras\\engine\\training.py\", line 1268, in step_function  **\n        outputs = model.distribute_strategy.run(run_step, args=(data,))\n    File \"c:\\Users\\Hipor\\projects\\.venv\\Lib\\site-packages\\keras\\engine\\training.py\", line 1249, in run_step  **\n        outputs = model.train_step(data)\n    File \"c:\\Users\\Hipor\\projects\\.venv\\Lib\\site-packages\\keras\\engine\\training.py\", line 1050, in train_step\n        y_pred = self(x, training=True)\n    File \"c:\\Users\\Hipor\\projects\\.venv\\Lib\\site-packages\\keras\\utils\\traceback_utils.py\", line 70, in error_handler\n        raise e.with_traceback(filtered_tb) from None\n    File \"c:\\Users\\Hipor\\projects\\.venv\\Lib\\site-packages\\keras\\engine\\input_spec.py\", line 298, in assert_input_compatibility\n        raise ValueError(\n\n    ValueError: Exception encountered when calling layer 'sequential_17' (type Sequential).\n    \n    Input 0 of layer \"lstm_16\" is incompatible with the layer: expected shape=(None, None, 453205), found shape=(None, 137, 1)\n    \n    Call arguments received by layer 'sequential_17' (type Sequential):\n      • inputs=tf.Tensor(shape=(None, 137, 1), dtype=float32)\n      • training=True\n      • mask=None\n"
     ]
    }
   ],
   "source": [
    "\n",
    "\n",
    "hist4 = nn4.fit(X, Y, batch_size=1024, epochs=10, verbose=1, callbacks=[Charlie])"
   ]
  },
  {
   "cell_type": "code",
   "execution_count": null,
   "metadata": {},
   "outputs": [],
   "source": [
    "y_pred = nn4.predict(x_test)\n",
    "print(f'Тренировочный набор R2: {s_metrics.r2_score(y_train, nn4.predict(x_train)): .4f}')\n",
    "print(f'Тестовый набор R2: {s_metrics.r2_score(y_test,y_pred): .4f}')"
   ]
  }
 ],
 "metadata": {
  "kernelspec": {
   "display_name": ".venv",
   "language": "python",
   "name": "python3"
  },
  "language_info": {
   "codemirror_mode": {
    "name": "ipython",
    "version": 3
   },
   "file_extension": ".py",
   "mimetype": "text/x-python",
   "name": "python",
   "nbconvert_exporter": "python",
   "pygments_lexer": "ipython3",
   "version": "3.11.0"
  },
  "orig_nbformat": 4
 },
 "nbformat": 4,
 "nbformat_minor": 2
}
