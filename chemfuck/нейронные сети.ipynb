{
 "cells": [
  {
   "attachments": {},
   "cell_type": "markdown",
   "metadata": {},
   "source": [
    "# Нейронные сети (Keras)"
   ]
  },
  {
   "attachments": {},
   "cell_type": "markdown",
   "metadata": {},
   "source": [
    "N1 = x1*w1 + x2*w2 результат в одном нейроне\n",
    "\n",
    "Y = N1*wk + N2*wp результат выходного слоя\n",
    "\n",
    "Существуют входные слои (исходные данные, те или иные)\n",
    "\n",
    "Скрытый слой (некоторое количество слоев с некоторым кол-вом нейронов)\n",
    "\n",
    "Выходной слой (необязательно один нейрон)\n",
    "\n",
    "### В нейроне существуют функции активации - функция применяемая на сложенные значения в нейроне\n",
    "\n",
    "identity - ничего не делаем\n",
    "\n",
    "logistic (сигмоид) f(x)=1/(1+exp(x))\n",
    "\n",
    "relu (линейный выпрямитель) f(x) = max(0,x) - обнуляет отрицательнные значения\n",
    "\n",
    "tanh (гиперболический тангенс) - f(x)=tanh(x)=(exp(x)-exp(-x))/(exp(x)+exp(-x))\n",
    "\n",
    "### Всё это нужно для такой нормировки данных"
   ]
  },
  {
   "attachments": {},
   "cell_type": "markdown",
   "metadata": {},
   "source": [
    "## Оптимизаторы\n",
    "\n",
    "В итоге сводим задачу к нахождению весов весов для сведения ошибки к минимум, начинаем это делать с конца\n",
    "\n",
    "lbfgs - квазиньютоновский метод, итерационный метод \n",
    "\n",
    "sgd - стохастический градиентный спуск, вместо реального градиента вычисляют его оценку (так вычислительно проще)\n",
    "\n",
    "adam - близкие к оптимуму параметры должны меняться меньше, другие сильнее (идейно должен лучше преодолевать локальные минимумы)"
   ]
  },
  {
   "cell_type": "code",
   "execution_count": 66,
   "metadata": {},
   "outputs": [],
   "source": [
    "%matplotlib inline\n",
    "import numpy as np\n",
    "import pandas as pd\n",
    "import matplotlib.pylab as plt\n",
    "from sklearn.model_selection import train_test_split\n",
    "from sklearn.preprocessing import StandardScaler"
   ]
  },
  {
   "cell_type": "code",
   "execution_count": 67,
   "metadata": {},
   "outputs": [],
   "source": [
    "df = pd.read_csv('delaney-processed.csv')"
   ]
  },
  {
   "cell_type": "code",
   "execution_count": 68,
   "metadata": {},
   "outputs": [
    {
     "data": {
      "text/html": [
       "<div>\n",
       "<style scoped>\n",
       "    .dataframe tbody tr th:only-of-type {\n",
       "        vertical-align: middle;\n",
       "    }\n",
       "\n",
       "    .dataframe tbody tr th {\n",
       "        vertical-align: top;\n",
       "    }\n",
       "\n",
       "    .dataframe thead th {\n",
       "        text-align: right;\n",
       "    }\n",
       "</style>\n",
       "<table border=\"1\" class=\"dataframe\">\n",
       "  <thead>\n",
       "    <tr style=\"text-align: right;\">\n",
       "      <th></th>\n",
       "      <th>Compound ID</th>\n",
       "      <th>ESOL predicted log solubility in mols per litre</th>\n",
       "      <th>Minimum Degree</th>\n",
       "      <th>Molecular Weight</th>\n",
       "      <th>Number of H-Bond Donors</th>\n",
       "      <th>Number of Rings</th>\n",
       "      <th>Number of Rotatable Bonds</th>\n",
       "      <th>Polar Surface Area</th>\n",
       "      <th>measured log solubility in mols per litre</th>\n",
       "      <th>smiles</th>\n",
       "    </tr>\n",
       "  </thead>\n",
       "  <tbody>\n",
       "    <tr>\n",
       "      <th>0</th>\n",
       "      <td>Amigdalin</td>\n",
       "      <td>-0.974</td>\n",
       "      <td>1</td>\n",
       "      <td>457.432</td>\n",
       "      <td>7</td>\n",
       "      <td>3</td>\n",
       "      <td>7</td>\n",
       "      <td>202.32</td>\n",
       "      <td>-0.77</td>\n",
       "      <td>OCC3OC(OCC2OC(OC(C#N)c1ccccc1)C(O)C(O)C2O)C(O)...</td>\n",
       "    </tr>\n",
       "    <tr>\n",
       "      <th>1</th>\n",
       "      <td>Fenfuram</td>\n",
       "      <td>-2.885</td>\n",
       "      <td>1</td>\n",
       "      <td>201.225</td>\n",
       "      <td>1</td>\n",
       "      <td>2</td>\n",
       "      <td>2</td>\n",
       "      <td>42.24</td>\n",
       "      <td>-3.30</td>\n",
       "      <td>Cc1occc1C(=O)Nc2ccccc2</td>\n",
       "    </tr>\n",
       "    <tr>\n",
       "      <th>2</th>\n",
       "      <td>citral</td>\n",
       "      <td>-2.579</td>\n",
       "      <td>1</td>\n",
       "      <td>152.237</td>\n",
       "      <td>0</td>\n",
       "      <td>0</td>\n",
       "      <td>4</td>\n",
       "      <td>17.07</td>\n",
       "      <td>-2.06</td>\n",
       "      <td>CC(C)=CCCC(C)=CC(=O)</td>\n",
       "    </tr>\n",
       "    <tr>\n",
       "      <th>3</th>\n",
       "      <td>Picene</td>\n",
       "      <td>-6.618</td>\n",
       "      <td>2</td>\n",
       "      <td>278.354</td>\n",
       "      <td>0</td>\n",
       "      <td>5</td>\n",
       "      <td>0</td>\n",
       "      <td>0.00</td>\n",
       "      <td>-7.87</td>\n",
       "      <td>c1ccc2c(c1)ccc3c2ccc4c5ccccc5ccc43</td>\n",
       "    </tr>\n",
       "    <tr>\n",
       "      <th>4</th>\n",
       "      <td>Thiophene</td>\n",
       "      <td>-2.232</td>\n",
       "      <td>2</td>\n",
       "      <td>84.143</td>\n",
       "      <td>0</td>\n",
       "      <td>1</td>\n",
       "      <td>0</td>\n",
       "      <td>0.00</td>\n",
       "      <td>-1.33</td>\n",
       "      <td>c1ccsc1</td>\n",
       "    </tr>\n",
       "  </tbody>\n",
       "</table>\n",
       "</div>"
      ],
      "text/plain": [
       "  Compound ID  ESOL predicted log solubility in mols per litre  \\\n",
       "0   Amigdalin                                           -0.974   \n",
       "1    Fenfuram                                           -2.885   \n",
       "2      citral                                           -2.579   \n",
       "3      Picene                                           -6.618   \n",
       "4   Thiophene                                           -2.232   \n",
       "\n",
       "   Minimum Degree  Molecular Weight  Number of H-Bond Donors  Number of Rings  \\\n",
       "0               1           457.432                        7                3   \n",
       "1               1           201.225                        1                2   \n",
       "2               1           152.237                        0                0   \n",
       "3               2           278.354                        0                5   \n",
       "4               2            84.143                        0                1   \n",
       "\n",
       "   Number of Rotatable Bonds  Polar Surface Area  \\\n",
       "0                          7              202.32   \n",
       "1                          2               42.24   \n",
       "2                          4               17.07   \n",
       "3                          0                0.00   \n",
       "4                          0                0.00   \n",
       "\n",
       "   measured log solubility in mols per litre  \\\n",
       "0                                      -0.77   \n",
       "1                                      -3.30   \n",
       "2                                      -2.06   \n",
       "3                                      -7.87   \n",
       "4                                      -1.33   \n",
       "\n",
       "                                              smiles  \n",
       "0  OCC3OC(OCC2OC(OC(C#N)c1ccccc1)C(O)C(O)C2O)C(O)...  \n",
       "1                             Cc1occc1C(=O)Nc2ccccc2  \n",
       "2                               CC(C)=CCCC(C)=CC(=O)  \n",
       "3                 c1ccc2c(c1)ccc3c2ccc4c5ccccc5ccc43  \n",
       "4                                            c1ccsc1  "
      ]
     },
     "execution_count": 68,
     "metadata": {},
     "output_type": "execute_result"
    }
   ],
   "source": [
    "df.head()"
   ]
  },
  {
   "cell_type": "code",
   "execution_count": 69,
   "metadata": {},
   "outputs": [
    {
     "name": "stdout",
     "output_type": "stream",
     "text": [
      "<class 'pandas.core.frame.DataFrame'>\n",
      "RangeIndex: 1128 entries, 0 to 1127\n",
      "Data columns (total 10 columns):\n",
      " #   Column                                           Non-Null Count  Dtype  \n",
      "---  ------                                           --------------  -----  \n",
      " 0   Compound ID                                      1128 non-null   object \n",
      " 1   ESOL predicted log solubility in mols per litre  1128 non-null   float64\n",
      " 2   Minimum Degree                                   1128 non-null   int64  \n",
      " 3   Molecular Weight                                 1128 non-null   float64\n",
      " 4   Number of H-Bond Donors                          1128 non-null   int64  \n",
      " 5   Number of Rings                                  1128 non-null   int64  \n",
      " 6   Number of Rotatable Bonds                        1128 non-null   int64  \n",
      " 7   Polar Surface Area                               1128 non-null   float64\n",
      " 8   measured log solubility in mols per litre        1128 non-null   float64\n",
      " 9   smiles                                           1128 non-null   object \n",
      "dtypes: float64(4), int64(4), object(2)\n",
      "memory usage: 88.2+ KB\n"
     ]
    }
   ],
   "source": [
    "df.info()"
   ]
  },
  {
   "cell_type": "code",
   "execution_count": 70,
   "metadata": {},
   "outputs": [
    {
     "name": "stdout",
     "output_type": "stream",
     "text": [
      "(1128, 5) (1128, 1)\n"
     ]
    }
   ],
   "source": [
    "x = np.array(df.iloc[:,3:8]) #отобрали 5 колонок для модели\n",
    "y = np.array(df.iloc[:,8]).reshape(-1,1)\n",
    "print(x.shape,y.shape)"
   ]
  },
  {
   "cell_type": "code",
   "execution_count": 71,
   "metadata": {},
   "outputs": [],
   "source": [
    "scaler = StandardScaler()\n",
    "x = scaler.fit_transform(x)"
   ]
  },
  {
   "cell_type": "code",
   "execution_count": 72,
   "metadata": {},
   "outputs": [
    {
     "name": "stdout",
     "output_type": "stream",
     "text": [
      "(226, 5)\n"
     ]
    }
   ],
   "source": [
    "x_train, x_test, y_train, y_test = train_test_split(x,y, random_state=1240, train_size=0.8)\n",
    "print(x_test.shape)"
   ]
  },
  {
   "cell_type": "code",
   "execution_count": 73,
   "metadata": {},
   "outputs": [],
   "source": [
    "\n",
    "from tensorflow.keras.models import Sequential"
   ]
  },
  {
   "cell_type": "code",
   "execution_count": 74,
   "metadata": {},
   "outputs": [],
   "source": [
    "from tensorflow.keras.layers import Dense\n",
    "from tensorflow.keras.optimizers import Adam\n",
    "from tensorflow.keras import metrics"
   ]
  },
  {
   "attachments": {},
   "cell_type": "markdown",
   "metadata": {},
   "source": [
    "Делаем нейроку с такими слоями: Схема из 5 >>> 10 >>> 5 >>> 3 >>> 1 результат"
   ]
  },
  {
   "cell_type": "code",
   "execution_count": 75,
   "metadata": {},
   "outputs": [],
   "source": [
    "nn1 = Sequential() # сгенирили прямоходную модель\n",
    "nn1.add(Dense(10, input_dim=5)) # генерим слои + вводим на первый раз кол-во исходных данных\n",
    "nn1.add(Dense(5))\n",
    "nn1.add(Dense(3))\n",
    "nn1.add(Dense(1))"
   ]
  },
  {
   "cell_type": "code",
   "execution_count": 76,
   "metadata": {},
   "outputs": [],
   "source": [
    "nn1.compile(loss='mse', optimizer=Adam(learning_rate=0.001)) #создали модель с алгоритмом Adam"
   ]
  },
  {
   "cell_type": "code",
   "execution_count": 77,
   "metadata": {},
   "outputs": [
    {
     "name": "stdout",
     "output_type": "stream",
     "text": [
      "Epoch 1/100\n",
      "10/10 [==============================] - 1s 14ms/step - loss: 22.7292 - val_loss: 21.8889\n",
      "Epoch 2/100\n",
      "10/10 [==============================] - 0s 5ms/step - loss: 19.5515 - val_loss: 19.2248\n",
      "Epoch 3/100\n",
      "10/10 [==============================] - 0s 5ms/step - loss: 17.1354 - val_loss: 17.0550\n",
      "Epoch 4/100\n",
      "10/10 [==============================] - 0s 8ms/step - loss: 15.0881 - val_loss: 15.2906\n",
      "Epoch 5/100\n",
      "10/10 [==============================] - 0s 8ms/step - loss: 13.4457 - val_loss: 13.8071\n",
      "Epoch 6/100\n",
      "10/10 [==============================] - 0s 8ms/step - loss: 12.0969 - val_loss: 12.5701\n",
      "Epoch 7/100\n",
      "10/10 [==============================] - 0s 8ms/step - loss: 10.9420 - val_loss: 11.4639\n",
      "Epoch 8/100\n",
      "10/10 [==============================] - 0s 6ms/step - loss: 9.9332 - val_loss: 10.4470\n",
      "Epoch 9/100\n",
      "10/10 [==============================] - 0s 5ms/step - loss: 8.9880 - val_loss: 9.5139\n",
      "Epoch 10/100\n",
      "10/10 [==============================] - 0s 5ms/step - loss: 8.1186 - val_loss: 8.6178\n",
      "Epoch 11/100\n",
      "10/10 [==============================] - 0s 5ms/step - loss: 7.3282 - val_loss: 7.7680\n",
      "Epoch 12/100\n",
      "10/10 [==============================] - 0s 4ms/step - loss: 6.4728 - val_loss: 6.7910\n",
      "Epoch 13/100\n",
      "10/10 [==============================] - 0s 4ms/step - loss: 5.6276 - val_loss: 5.9305\n",
      "Epoch 14/100\n",
      "10/10 [==============================] - 0s 6ms/step - loss: 4.9084 - val_loss: 5.2491\n",
      "Epoch 15/100\n",
      "10/10 [==============================] - 0s 5ms/step - loss: 4.3413 - val_loss: 4.6628\n",
      "Epoch 16/100\n",
      "10/10 [==============================] - 0s 5ms/step - loss: 3.8528 - val_loss: 4.1613\n",
      "Epoch 17/100\n",
      "10/10 [==============================] - 0s 5ms/step - loss: 3.4286 - val_loss: 3.7111\n",
      "Epoch 18/100\n",
      "10/10 [==============================] - 0s 5ms/step - loss: 3.0580 - val_loss: 3.2915\n",
      "Epoch 19/100\n",
      "10/10 [==============================] - 0s 5ms/step - loss: 2.7124 - val_loss: 2.9070\n",
      "Epoch 20/100\n",
      "10/10 [==============================] - 0s 5ms/step - loss: 2.4218 - val_loss: 2.6238\n",
      "Epoch 21/100\n",
      "10/10 [==============================] - 0s 5ms/step - loss: 2.2124 - val_loss: 2.3875\n",
      "Epoch 22/100\n",
      "10/10 [==============================] - 0s 5ms/step - loss: 2.0465 - val_loss: 2.1966\n",
      "Epoch 23/100\n",
      "10/10 [==============================] - 0s 5ms/step - loss: 1.9086 - val_loss: 2.0347\n",
      "Epoch 24/100\n",
      "10/10 [==============================] - 0s 5ms/step - loss: 1.8010 - val_loss: 1.9126\n",
      "Epoch 25/100\n",
      "10/10 [==============================] - 0s 6ms/step - loss: 1.7440 - val_loss: 1.9124\n",
      "Epoch 26/100\n",
      "10/10 [==============================] - 0s 5ms/step - loss: 1.6983 - val_loss: 1.8255\n",
      "Epoch 27/100\n",
      "10/10 [==============================] - 0s 5ms/step - loss: 1.6370 - val_loss: 1.7274\n",
      "Epoch 28/100\n",
      "10/10 [==============================] - 0s 5ms/step - loss: 1.5940 - val_loss: 1.6750\n",
      "Epoch 29/100\n",
      "10/10 [==============================] - 0s 5ms/step - loss: 1.5613 - val_loss: 1.6217\n",
      "Epoch 30/100\n",
      "10/10 [==============================] - 0s 6ms/step - loss: 1.5329 - val_loss: 1.5771\n",
      "Epoch 31/100\n",
      "10/10 [==============================] - 0s 5ms/step - loss: 1.5129 - val_loss: 1.5527\n",
      "Epoch 32/100\n",
      "10/10 [==============================] - 0s 5ms/step - loss: 1.5015 - val_loss: 1.5397\n",
      "Epoch 33/100\n",
      "10/10 [==============================] - 0s 5ms/step - loss: 1.4918 - val_loss: 1.5191\n",
      "Epoch 34/100\n",
      "10/10 [==============================] - 0s 5ms/step - loss: 1.4824 - val_loss: 1.5094\n",
      "Epoch 35/100\n",
      "10/10 [==============================] - 0s 5ms/step - loss: 1.4730 - val_loss: 1.4966\n",
      "Epoch 36/100\n",
      "10/10 [==============================] - 0s 5ms/step - loss: 1.4648 - val_loss: 1.4802\n",
      "Epoch 37/100\n",
      "10/10 [==============================] - 0s 5ms/step - loss: 1.4576 - val_loss: 1.4676\n",
      "Epoch 38/100\n",
      "10/10 [==============================] - 0s 5ms/step - loss: 1.4511 - val_loss: 1.4586\n",
      "Epoch 39/100\n",
      "10/10 [==============================] - 0s 5ms/step - loss: 1.4455 - val_loss: 1.4526\n",
      "Epoch 40/100\n",
      "10/10 [==============================] - 0s 5ms/step - loss: 1.4416 - val_loss: 1.4465\n",
      "Epoch 41/100\n",
      "10/10 [==============================] - 0s 5ms/step - loss: 1.4390 - val_loss: 1.4410\n",
      "Epoch 42/100\n",
      "10/10 [==============================] - 0s 6ms/step - loss: 1.4357 - val_loss: 1.4222\n",
      "Epoch 43/100\n",
      "10/10 [==============================] - 0s 5ms/step - loss: 1.4325 - val_loss: 1.4155\n",
      "Epoch 44/100\n",
      "10/10 [==============================] - 0s 5ms/step - loss: 1.4301 - val_loss: 1.4091\n",
      "Epoch 45/100\n",
      "10/10 [==============================] - 0s 5ms/step - loss: 1.4242 - val_loss: 1.4249\n",
      "Epoch 46/100\n",
      "10/10 [==============================] - 0s 5ms/step - loss: 1.4241 - val_loss: 1.4254\n",
      "Epoch 47/100\n",
      "10/10 [==============================] - 0s 5ms/step - loss: 1.4232 - val_loss: 1.4184\n",
      "Epoch 48/100\n",
      "10/10 [==============================] - 0s 5ms/step - loss: 1.4211 - val_loss: 1.4169\n",
      "Epoch 49/100\n",
      "10/10 [==============================] - 0s 5ms/step - loss: 1.4205 - val_loss: 1.4093\n",
      "Epoch 50/100\n",
      "10/10 [==============================] - 0s 7ms/step - loss: 1.4175 - val_loss: 1.4002\n",
      "Epoch 51/100\n",
      "10/10 [==============================] - 0s 7ms/step - loss: 1.4128 - val_loss: 1.4060\n",
      "Epoch 52/100\n",
      "10/10 [==============================] - 0s 7ms/step - loss: 1.4128 - val_loss: 1.3914\n",
      "Epoch 53/100\n",
      "10/10 [==============================] - 0s 7ms/step - loss: 1.4248 - val_loss: 1.3947\n",
      "Epoch 54/100\n",
      "10/10 [==============================] - 0s 7ms/step - loss: 1.4563 - val_loss: 1.4311\n",
      "Epoch 55/100\n",
      "10/10 [==============================] - 0s 7ms/step - loss: 1.4475 - val_loss: 1.4191\n",
      "Epoch 56/100\n",
      "10/10 [==============================] - 0s 7ms/step - loss: 1.4292 - val_loss: 1.4029\n",
      "Epoch 57/100\n",
      "10/10 [==============================] - 0s 7ms/step - loss: 1.4158 - val_loss: 1.3937\n",
      "Epoch 58/100\n",
      "10/10 [==============================] - 0s 7ms/step - loss: 1.4143 - val_loss: 1.4036\n",
      "Epoch 59/100\n",
      "10/10 [==============================] - 0s 7ms/step - loss: 1.4080 - val_loss: 1.3992\n",
      "Epoch 60/100\n",
      "10/10 [==============================] - 0s 9ms/step - loss: 1.4037 - val_loss: 1.3949\n",
      "Epoch 61/100\n",
      "10/10 [==============================] - 0s 9ms/step - loss: 1.4028 - val_loss: 1.3973\n",
      "Epoch 62/100\n",
      "10/10 [==============================] - 0s 9ms/step - loss: 1.4001 - val_loss: 1.4049\n",
      "Epoch 63/100\n",
      "10/10 [==============================] - 0s 9ms/step - loss: 1.3987 - val_loss: 1.3953\n",
      "Epoch 64/100\n",
      "10/10 [==============================] - 0s 9ms/step - loss: 1.4023 - val_loss: 1.3989\n",
      "Epoch 65/100\n",
      "10/10 [==============================] - 0s 9ms/step - loss: 1.4000 - val_loss: 1.3952\n",
      "Epoch 66/100\n",
      "10/10 [==============================] - 0s 9ms/step - loss: 1.3983 - val_loss: 1.3975\n",
      "Epoch 67/100\n",
      "10/10 [==============================] - 0s 5ms/step - loss: 1.4017 - val_loss: 1.3969\n",
      "Epoch 68/100\n",
      "10/10 [==============================] - 0s 5ms/step - loss: 1.4031 - val_loss: 1.3993\n",
      "Epoch 69/100\n",
      "10/10 [==============================] - 0s 5ms/step - loss: 1.4006 - val_loss: 1.4043\n",
      "Epoch 70/100\n",
      "10/10 [==============================] - 0s 5ms/step - loss: 1.3979 - val_loss: 1.4044\n",
      "Epoch 71/100\n",
      "10/10 [==============================] - 0s 5ms/step - loss: 1.3983 - val_loss: 1.3977\n",
      "Epoch 72/100\n",
      "10/10 [==============================] - 0s 5ms/step - loss: 1.3984 - val_loss: 1.3889\n",
      "Epoch 73/100\n",
      "10/10 [==============================] - 0s 4ms/step - loss: 1.3994 - val_loss: 1.3870\n",
      "Epoch 74/100\n",
      "10/10 [==============================] - 0s 4ms/step - loss: 1.3972 - val_loss: 1.4065\n",
      "Epoch 75/100\n",
      "10/10 [==============================] - 0s 5ms/step - loss: 1.4018 - val_loss: 1.4107\n",
      "Epoch 76/100\n",
      "10/10 [==============================] - 0s 5ms/step - loss: 1.4037 - val_loss: 1.4197\n",
      "Epoch 77/100\n",
      "10/10 [==============================] - 0s 4ms/step - loss: 1.4010 - val_loss: 1.4066\n",
      "Epoch 78/100\n",
      "10/10 [==============================] - 0s 4ms/step - loss: 1.3969 - val_loss: 1.3872\n",
      "Epoch 79/100\n",
      "10/10 [==============================] - 0s 4ms/step - loss: 1.3996 - val_loss: 1.3894\n",
      "Epoch 80/100\n",
      "10/10 [==============================] - 0s 5ms/step - loss: 1.4009 - val_loss: 1.3891\n",
      "Epoch 81/100\n",
      "10/10 [==============================] - 0s 5ms/step - loss: 1.3982 - val_loss: 1.3913\n",
      "Epoch 82/100\n",
      "10/10 [==============================] - 0s 4ms/step - loss: 1.3959 - val_loss: 1.4018\n",
      "Epoch 83/100\n",
      "10/10 [==============================] - 0s 4ms/step - loss: 1.3947 - val_loss: 1.3892\n",
      "Epoch 84/100\n",
      "10/10 [==============================] - 0s 4ms/step - loss: 1.3980 - val_loss: 1.3773\n",
      "Epoch 85/100\n",
      "10/10 [==============================] - 0s 5ms/step - loss: 1.4007 - val_loss: 1.3745\n",
      "Epoch 86/100\n",
      "10/10 [==============================] - 0s 4ms/step - loss: 1.3971 - val_loss: 1.3818\n",
      "Epoch 87/100\n",
      "10/10 [==============================] - 0s 5ms/step - loss: 1.3942 - val_loss: 1.4003\n",
      "Epoch 88/100\n",
      "10/10 [==============================] - 0s 5ms/step - loss: 1.3990 - val_loss: 1.4404\n",
      "Epoch 89/100\n",
      "10/10 [==============================] - 0s 5ms/step - loss: 1.4079 - val_loss: 1.4515\n",
      "Epoch 90/100\n",
      "10/10 [==============================] - 0s 4ms/step - loss: 1.4043 - val_loss: 1.4275\n",
      "Epoch 91/100\n",
      "10/10 [==============================] - 0s 4ms/step - loss: 1.4077 - val_loss: 1.3944\n",
      "Epoch 92/100\n",
      "10/10 [==============================] - 0s 4ms/step - loss: 1.4029 - val_loss: 1.3855\n",
      "Epoch 93/100\n",
      "10/10 [==============================] - 0s 5ms/step - loss: 1.4036 - val_loss: 1.3799\n",
      "Epoch 94/100\n",
      "10/10 [==============================] - 0s 4ms/step - loss: 1.4047 - val_loss: 1.4033\n",
      "Epoch 95/100\n",
      "10/10 [==============================] - 0s 5ms/step - loss: 1.4022 - val_loss: 1.4078\n",
      "Epoch 96/100\n",
      "10/10 [==============================] - 0s 4ms/step - loss: 1.4013 - val_loss: 1.4015\n",
      "Epoch 97/100\n",
      "10/10 [==============================] - 0s 4ms/step - loss: 1.3988 - val_loss: 1.4120\n",
      "Epoch 98/100\n",
      "10/10 [==============================] - 0s 4ms/step - loss: 1.4005 - val_loss: 1.4122\n",
      "Epoch 99/100\n",
      "10/10 [==============================] - 0s 4ms/step - loss: 1.4003 - val_loss: 1.3819\n",
      "Epoch 100/100\n",
      "10/10 [==============================] - 0s 5ms/step - loss: 1.4082 - val_loss: 1.3869\n"
     ]
    }
   ],
   "source": [
    "hist1 = nn1.fit(x_train, y_train, validation_data=(x_test, y_test),\n",
    "        batch_size=100, epochs=100, verbose=1) #обучение происходить обычно пачками данных (не целиком), когда они закончились - прошла эпоха"
   ]
  },
  {
   "cell_type": "code",
   "execution_count": 78,
   "metadata": {},
   "outputs": [
    {
     "name": "stdout",
     "output_type": "stream",
     "text": [
      "8/8 [==============================] - 0s 2ms/step\n"
     ]
    }
   ],
   "source": [
    "y_pred = nn1.predict(x_test)"
   ]
  },
  {
   "cell_type": "code",
   "execution_count": 79,
   "metadata": {},
   "outputs": [],
   "source": [
    "from sklearn import metrics as s_metrics"
   ]
  },
  {
   "cell_type": "code",
   "execution_count": 80,
   "metadata": {},
   "outputs": [
    {
     "name": "stdout",
     "output_type": "stream",
     "text": [
      "29/29 [==============================] - 0s 1ms/step\n",
      "Тренировочный набор R2 0.6787773920694042\n",
      "Тестовый набор R2 0.685221299579664\n"
     ]
    }
   ],
   "source": [
    "print('Тренировочный набор R2',s_metrics.r2_score(y_train, nn1.predict(x_train)))\n",
    "print('Тестовый набор R2',s_metrics.r2_score(y_test,y_pred))"
   ]
  },
  {
   "cell_type": "code",
   "execution_count": 81,
   "metadata": {},
   "outputs": [
    {
     "data": {
      "image/png": "[encoded data removed]",
      "text/plain": [
       "<Figure size 500x500 with 1 Axes>"
      ]
     },
     "metadata": {},
     "output_type": "display_data"
    }
   ],
   "source": [
    "fig, ax = plt.subplots(figsize=(5,5)) # строим кривые обучения\n",
    "ax.plot(hist1.history['loss'])# потери для тренировочного набора\n",
    "ax.plot(hist1.history['val_loss']) # потери для тестого набора\n",
    "\n",
    "plt.tight_layout()\n",
    "plt.show()"
   ]
  },
  {
   "cell_type": "code",
   "execution_count": 82,
   "metadata": {},
   "outputs": [
    {
     "name": "stdout",
     "output_type": "stream",
     "text": [
      "29/29 [==============================] - 0s 3ms/step\n"
     ]
    },
    {
     "data": {
      "image/png": "[encoded data removed]",
      "text/plain": [
       "<Figure size 500x500 with 1 Axes>"
      ]
     },
     "metadata": {},
     "output_type": "display_data"
    }
   ],
   "source": [
    "fig, ax = plt.subplots(figsize=(5,5))\n",
    "\n",
    "ax.plot(y_train, nn1.predict(x_train), 'bo', alpha=0.5)\n",
    "ax.plot(y_test, y_pred, 'rs', alpha=0.5)\n",
    "\n",
    "ax.plot([-10,2], [-10,2], 'k-')\n",
    "\n",
    "plt.tight_layout()\n",
    "plt.show()"
   ]
  },
  {
   "cell_type": "code",
   "execution_count": null,
   "metadata": {},
   "outputs": [],
   "source": []
  }
 ],
 "metadata": {
  "kernelspec": {
   "display_name": ".venv",
   "language": "python",
   "name": "python3"
  },
  "language_info": {
   "codemirror_mode": {
    "name": "ipython",
    "version": 3
   },
   "file_extension": ".py",
   "mimetype": "text/x-python",
   "name": "python",
   "nbconvert_exporter": "python",
   "pygments_lexer": "ipython3",
   "version": "3.11.0"
  },
  "orig_nbformat": 4
 },
 "nbformat": 4,
 "nbformat_minor": 2
}
