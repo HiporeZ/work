{
 "cells": [
  {
   "cell_type": "code",
   "execution_count": 5,
   "metadata": {},
   "outputs": [
    {
     "name": "stdout",
     "output_type": "stream",
     "text": [
      "Requirement already satisfied: rdkit-pypi in c:\\users\\hipor\\projects\\.venv\\lib\\site-packages (2022.9.5)\n",
      "Requirement already satisfied: numpy in c:\\users\\hipor\\projects\\.venv\\lib\\site-packages (from rdkit-pypi) (1.24.2)\n",
      "Requirement already satisfied: Pillow in c:\\users\\hipor\\projects\\.venv\\lib\\site-packages (from rdkit-pypi) (9.4.0)\n"
     ]
    }
   ],
   "source": [
    "!pip install rdkit-pypi\n",
    "from rdkit import Chem, DataStructs\n",
    "from rdkit.Chem import Draw, AllChem, PandasTools, Descriptors\n",
    "from rdkit.Chem.Draw import IPythonConsole\n",
    "import numpy as np\n",
    "import pandas as pd\n",
    "import matplotlib.pyplot as plt\n"
   ]
  },
  {
   "cell_type": "code",
   "execution_count": 8,
   "metadata": {},
   "outputs": [],
   "source": [
    "df2 = pd.read_csv('chembl_drugs.txt.gz', sep='\\t')"
   ]
  },
  {
   "cell_type": "code",
   "execution_count": 9,
   "metadata": {},
   "outputs": [
    {
     "data": {
      "text/plain": [
       "700"
      ]
     },
     "execution_count": 9,
     "metadata": {},
     "output_type": "execute_result"
    }
   ],
   "source": [
    "df2 = df2[df2[\"CANONICAL_SMILES\"].notnull()]\n",
    "df2 = df2[df2[\"USAN_STEM\"].notnull()]\n",
    "df2 = df2[df2[\"RULE_OF_FIVE\"]== 'Y']\n",
    "df2 = df2[df2[\"DEVELOPMENT_PHASE\"] == 4]\n",
    "len(df2)"
   ]
  },
  {
   "cell_type": "code",
   "execution_count": 10,
   "metadata": {},
   "outputs": [
    {
     "data": {
      "text/html": [
       "<div>\n",
       "<style scoped>\n",
       "    .dataframe tbody tr th:only-of-type {\n",
       "        vertical-align: middle;\n",
       "    }\n",
       "\n",
       "    .dataframe tbody tr th {\n",
       "        vertical-align: top;\n",
       "    }\n",
       "\n",
       "    .dataframe thead th {\n",
       "        text-align: right;\n",
       "    }\n",
       "</style>\n",
       "<table border=\"1\" class=\"dataframe\">\n",
       "  <thead>\n",
       "    <tr style=\"text-align: right;\">\n",
       "      <th></th>\n",
       "      <th>PARENT_MOLREGNO</th>\n",
       "      <th>CHEMBL_ID</th>\n",
       "      <th>SYNONYMS</th>\n",
       "      <th>DEVELOPMENT_PHASE</th>\n",
       "      <th>RESEARCH_CODES</th>\n",
       "      <th>APPLICANTS</th>\n",
       "      <th>USAN_STEM</th>\n",
       "      <th>USAN_STEM_DEFINITION</th>\n",
       "      <th>USAN_STEM_SUBSTEM</th>\n",
       "      <th>USAN_YEAR</th>\n",
       "      <th>...</th>\n",
       "      <th>ORAL</th>\n",
       "      <th>PARENTERAL</th>\n",
       "      <th>TOPICAL</th>\n",
       "      <th>BLACK_BOX</th>\n",
       "      <th>AVAILABILITY_TYPE</th>\n",
       "      <th>WITHDRAWN_YEAR</th>\n",
       "      <th>WITHDRAWN_COUNTRY</th>\n",
       "      <th>WITHDRAWN_REASON</th>\n",
       "      <th>CANONICAL_SMILES</th>\n",
       "      <th>ROMol</th>\n",
       "    </tr>\n",
       "  </thead>\n",
       "  <tbody>\n",
       "    <tr>\n",
       "      <th>11010</th>\n",
       "      <td>1078456</td>\n",
       "      <td>CHEMBL1697686</td>\n",
       "      <td>Cloforex (INN, MI)</td>\n",
       "      <td>4</td>\n",
       "      <td>D-237</td>\n",
       "      <td>NaN</td>\n",
       "      <td>-orex</td>\n",
       "      <td>anorexiants</td>\n",
       "      <td>-orex</td>\n",
       "      <td>NaN</td>\n",
       "      <td>...</td>\n",
       "      <td>N</td>\n",
       "      <td>N</td>\n",
       "      <td>N</td>\n",
       "      <td>N</td>\n",
       "      <td>Withdrawn</td>\n",
       "      <td>1969.0</td>\n",
       "      <td>Germany</td>\n",
       "      <td>Cardiovascular</td>\n",
       "      <td>CCOC(=O)NC(C)(C)Cc1ccc(Cl)cc1</td>\n",
       "      <td>&lt;rdkit.Chem.rdchem.Mol object at 0x000001F7C30...</td>\n",
       "    </tr>\n",
       "    <tr>\n",
       "      <th>513</th>\n",
       "      <td>258709</td>\n",
       "      <td>CHEMBL1305</td>\n",
       "      <td>Antazoline (BAN, INN); Antazoline HCl (MI, USP...</td>\n",
       "      <td>4</td>\n",
       "      <td>NaN</td>\n",
       "      <td>Novartis Pharmaceuticals Corp</td>\n",
       "      <td>-azoline</td>\n",
       "      <td>antihistamines/local vasoconstrictors (antazol...</td>\n",
       "      <td>-azoline</td>\n",
       "      <td>NaN</td>\n",
       "      <td>...</td>\n",
       "      <td>N</td>\n",
       "      <td>N</td>\n",
       "      <td>Y</td>\n",
       "      <td>N</td>\n",
       "      <td>Discontinued</td>\n",
       "      <td>NaN</td>\n",
       "      <td>NaN</td>\n",
       "      <td>NaN</td>\n",
       "      <td>C(N(Cc1ccccc1)c2ccccc2)C3=NCCN3</td>\n",
       "      <td>&lt;rdkit.Chem.rdchem.Mol object at 0x000001F7C28...</td>\n",
       "    </tr>\n",
       "    <tr>\n",
       "      <th>11265</th>\n",
       "      <td>155045</td>\n",
       "      <td>CHEMBL1113</td>\n",
       "      <td>Amoxapine (BAN, FDA, INN, JAN, USAN, USP)</td>\n",
       "      <td>4</td>\n",
       "      <td>CL-67772</td>\n",
       "      <td>Lederle Laboratories Div American Cyanamid Co</td>\n",
       "      <td>-pin(e)</td>\n",
       "      <td>tricyclic compounds</td>\n",
       "      <td>-pin(e)</td>\n",
       "      <td>1971.0</td>\n",
       "      <td>...</td>\n",
       "      <td>Y</td>\n",
       "      <td>N</td>\n",
       "      <td>N</td>\n",
       "      <td>Y</td>\n",
       "      <td>Prescription-only</td>\n",
       "      <td>NaN</td>\n",
       "      <td>NaN</td>\n",
       "      <td>NaN</td>\n",
       "      <td>Clc1ccc2Oc3ccccc3N=C(N4CCNCC4)c2c1</td>\n",
       "      <td>&lt;rdkit.Chem.rdchem.Mol object at 0x000001F7C30...</td>\n",
       "    </tr>\n",
       "    <tr>\n",
       "      <th>1345</th>\n",
       "      <td>394231</td>\n",
       "      <td>CHEMBL1466</td>\n",
       "      <td>Dicoumarol (DCF, INN); Dicumarol (FDA, USAN, USP)</td>\n",
       "      <td>4</td>\n",
       "      <td>NaN</td>\n",
       "      <td>Eli Lilly And Co; Abbvie Inc</td>\n",
       "      <td>-arol</td>\n",
       "      <td>anticoagulants (dicumarol type)</td>\n",
       "      <td>-arol</td>\n",
       "      <td>1971.0</td>\n",
       "      <td>...</td>\n",
       "      <td>Y</td>\n",
       "      <td>N</td>\n",
       "      <td>N</td>\n",
       "      <td>N</td>\n",
       "      <td>Discontinued</td>\n",
       "      <td>NaN</td>\n",
       "      <td>NaN</td>\n",
       "      <td>NaN</td>\n",
       "      <td>OC1=C(CC2=C(O)c3ccccc3OC2=O)C(=O)Oc4ccccc14</td>\n",
       "      <td>&lt;rdkit.Chem.rdchem.Mol object at 0x000001F7C30...</td>\n",
       "    </tr>\n",
       "    <tr>\n",
       "      <th>11328</th>\n",
       "      <td>75901</td>\n",
       "      <td>CHEMBL888</td>\n",
       "      <td>Gemcitabine (BAN, INN, USAN); Gemcitabine HCl ...</td>\n",
       "      <td>4</td>\n",
       "      <td>LY-188011</td>\n",
       "      <td>Lilly; Hospira Inc; Eli Lilly And Co</td>\n",
       "      <td>-citabine</td>\n",
       "      <td>nucleoside antiviral or antineoplastic agents,...</td>\n",
       "      <td>-citabine</td>\n",
       "      <td>1989.0</td>\n",
       "      <td>...</td>\n",
       "      <td>N</td>\n",
       "      <td>Y</td>\n",
       "      <td>N</td>\n",
       "      <td>N</td>\n",
       "      <td>Prescription-only</td>\n",
       "      <td>NaN</td>\n",
       "      <td>NaN</td>\n",
       "      <td>NaN</td>\n",
       "      <td>NC1=NC(=O)N(C=C1)[C@@H]2O[C@H](CO)[C@@H](O)C2(F)F</td>\n",
       "      <td>&lt;rdkit.Chem.rdchem.Mol object at 0x000001F7C30...</td>\n",
       "    </tr>\n",
       "  </tbody>\n",
       "</table>\n",
       "<p>5 rows × 30 columns</p>\n",
       "</div>"
      ],
      "text/plain": [
       "       PARENT_MOLREGNO      CHEMBL_ID  \\\n",
       "11010          1078456  CHEMBL1697686   \n",
       "513             258709     CHEMBL1305   \n",
       "11265           155045     CHEMBL1113   \n",
       "1345            394231     CHEMBL1466   \n",
       "11328            75901      CHEMBL888   \n",
       "\n",
       "                                                SYNONYMS  DEVELOPMENT_PHASE  \\\n",
       "11010                                 Cloforex (INN, MI)                  4   \n",
       "513    Antazoline (BAN, INN); Antazoline HCl (MI, USP...                  4   \n",
       "11265          Amoxapine (BAN, FDA, INN, JAN, USAN, USP)                  4   \n",
       "1345   Dicoumarol (DCF, INN); Dicumarol (FDA, USAN, USP)                  4   \n",
       "11328  Gemcitabine (BAN, INN, USAN); Gemcitabine HCl ...                  4   \n",
       "\n",
       "      RESEARCH_CODES                                     APPLICANTS  \\\n",
       "11010          D-237                                            NaN   \n",
       "513              NaN                  Novartis Pharmaceuticals Corp   \n",
       "11265       CL-67772  Lederle Laboratories Div American Cyanamid Co   \n",
       "1345             NaN                   Eli Lilly And Co; Abbvie Inc   \n",
       "11328      LY-188011           Lilly; Hospira Inc; Eli Lilly And Co   \n",
       "\n",
       "       USAN_STEM                               USAN_STEM_DEFINITION  \\\n",
       "11010      -orex                                        anorexiants   \n",
       "513     -azoline  antihistamines/local vasoconstrictors (antazol...   \n",
       "11265    -pin(e)                                tricyclic compounds   \n",
       "1345       -arol                    anticoagulants (dicumarol type)   \n",
       "11328  -citabine  nucleoside antiviral or antineoplastic agents,...   \n",
       "\n",
       "      USAN_STEM_SUBSTEM  USAN_YEAR  ...  ORAL PARENTERAL TOPICAL BLACK_BOX  \\\n",
       "11010             -orex        NaN  ...     N          N       N         N   \n",
       "513            -azoline        NaN  ...     N          N       Y         N   \n",
       "11265           -pin(e)     1971.0  ...     Y          N       N         Y   \n",
       "1345              -arol     1971.0  ...     Y          N       N         N   \n",
       "11328         -citabine     1989.0  ...     N          Y       N         N   \n",
       "\n",
       "       AVAILABILITY_TYPE WITHDRAWN_YEAR WITHDRAWN_COUNTRY WITHDRAWN_REASON  \\\n",
       "11010          Withdrawn         1969.0           Germany   Cardiovascular   \n",
       "513         Discontinued            NaN               NaN              NaN   \n",
       "11265  Prescription-only            NaN               NaN              NaN   \n",
       "1345        Discontinued            NaN               NaN              NaN   \n",
       "11328  Prescription-only            NaN               NaN              NaN   \n",
       "\n",
       "                                        CANONICAL_SMILES  \\\n",
       "11010                      CCOC(=O)NC(C)(C)Cc1ccc(Cl)cc1   \n",
       "513                      C(N(Cc1ccccc1)c2ccccc2)C3=NCCN3   \n",
       "11265                 Clc1ccc2Oc3ccccc3N=C(N4CCNCC4)c2c1   \n",
       "1345         OC1=C(CC2=C(O)c3ccccc3OC2=O)C(=O)Oc4ccccc14   \n",
       "11328  NC1=NC(=O)N(C=C1)[C@@H]2O[C@H](CO)[C@@H](O)C2(F)F   \n",
       "\n",
       "                                                   ROMol  \n",
       "11010  <rdkit.Chem.rdchem.Mol object at 0x000001F7C30...  \n",
       "513    <rdkit.Chem.rdchem.Mol object at 0x000001F7C28...  \n",
       "11265  <rdkit.Chem.rdchem.Mol object at 0x000001F7C30...  \n",
       "1345   <rdkit.Chem.rdchem.Mol object at 0x000001F7C30...  \n",
       "11328  <rdkit.Chem.rdchem.Mol object at 0x000001F7C30...  \n",
       "\n",
       "[5 rows x 30 columns]"
      ]
     },
     "execution_count": 10,
     "metadata": {},
     "output_type": "execute_result"
    }
   ],
   "source": [
    "PandasTools.AddMoleculeColumnToFrame(df2, smilesCol='CANONICAL_SMILES')\n",
    "df3 = df2.sample(200)\n",
    "df3.head()"
   ]
  },
  {
   "cell_type": "code",
   "execution_count": 11,
   "metadata": {},
   "outputs": [
    {
     "data": {
      "text/plain": [
       "USAN_STEM\n",
       "-tinib     12\n",
       "-olone     12\n",
       "-pin(e)    12\n",
       "-ium       14\n",
       "-vir       15\n",
       "-caine     15\n",
       "-oxacin    17\n",
       "-cillin    17\n",
       "-olol      18\n",
       "sulfa-     18\n",
       "dtype: int64"
      ]
     },
     "execution_count": 11,
     "metadata": {},
     "output_type": "execute_result"
    }
   ],
   "source": [
    "common_stems = df2.groupby('USAN_STEM').size().sort_values()[-10:]\n",
    "common_stems"
   ]
  },
  {
   "cell_type": "code",
   "execution_count": 17,
   "metadata": {},
   "outputs": [],
   "source": [
    "df_small = df2[df2['USAN_STEM'].isin(list(common_stems.index))].copy()"
   ]
  },
  {
   "cell_type": "code",
   "execution_count": 18,
   "metadata": {},
   "outputs": [],
   "source": [
    "def get_cfp(mol):\n",
    "    arr = np.zeros((1,), dtype=float)\n",
    "    fp = AllChem.GetMorganFingerprintAsBitVect(mol, radius=2, nBits=1024)\n",
    "    DataStructs.ConvertToNumpyArray(fp, arr)\n",
    "    return arr\n"
   ]
  },
  {
   "cell_type": "code",
   "execution_count": 19,
   "metadata": {},
   "outputs": [
    {
     "name": "stdout",
     "output_type": "stream",
     "text": [
      "<class 'pandas.core.frame.DataFrame'>\n",
      "Int64Index: 150 entries, 0 to 11378\n",
      "Data columns (total 31 columns):\n",
      " #   Column                Non-Null Count  Dtype  \n",
      "---  ------                --------------  -----  \n",
      " 0   PARENT_MOLREGNO       150 non-null    int64  \n",
      " 1   CHEMBL_ID             150 non-null    object \n",
      " 2   SYNONYMS              150 non-null    object \n",
      " 3   DEVELOPMENT_PHASE     150 non-null    int64  \n",
      " 4   RESEARCH_CODES        103 non-null    object \n",
      " 5   APPLICANTS            142 non-null    object \n",
      " 6   USAN_STEM             150 non-null    object \n",
      " 7   USAN_STEM_DEFINITION  150 non-null    object \n",
      " 8   USAN_STEM_SUBSTEM     150 non-null    object \n",
      " 9   USAN_YEAR             108 non-null    float64\n",
      " 10  FIRST_APPROVAL        138 non-null    float64\n",
      " 11  ATC_CODE              133 non-null    object \n",
      " 12  ATC_CODE_DESCRIPTION  133 non-null    object \n",
      " 13  INDICATION_CLASS      104 non-null    object \n",
      " 14  SC_PATENT_NO          53 non-null     object \n",
      " 15  DRUG_TYPE             150 non-null    object \n",
      " 16  RULE_OF_FIVE          150 non-null    object \n",
      " 17  FIRST_IN_CLASS        150 non-null    object \n",
      " 18  CHIRALITY             150 non-null    object \n",
      " 19  PRODRUG               150 non-null    object \n",
      " 20  ORAL                  150 non-null    object \n",
      " 21  PARENTERAL            150 non-null    object \n",
      " 22  TOPICAL               150 non-null    object \n",
      " 23  BLACK_BOX             150 non-null    object \n",
      " 24  AVAILABILITY_TYPE     150 non-null    object \n",
      " 25  WITHDRAWN_YEAR        11 non-null     float64\n",
      " 26  WITHDRAWN_COUNTRY     13 non-null     object \n",
      " 27  WITHDRAWN_REASON      9 non-null      object \n",
      " 28  CANONICAL_SMILES      150 non-null    object \n",
      " 29  ROMol                 150 non-null    object \n",
      " 30  FP                    150 non-null    object \n",
      "dtypes: float64(3), int64(2), object(26)\n",
      "memory usage: 37.5+ KB\n"
     ]
    }
   ],
   "source": [
    "df_small['FP'] = df_small['ROMol'].map(get_cfp)\n",
    "df_small.info()"
   ]
  },
  {
   "cell_type": "code",
   "execution_count": 22,
   "metadata": {},
   "outputs": [
    {
     "name": "stdout",
     "output_type": "stream",
     "text": [
      "(array([  33,   36,   37,   47,   71,  105,  130,  138,  231,  250,  301,\n",
      "        312,  314,  356,  395,  412,  432,  437,  453,  507,  516,  519,\n",
      "        522,  528,  529,  555,  594,  622,  627,  650,  652,  674,  694,\n",
      "        751,  759,  803,  807,  922,  926,  940,  956, 1019], dtype=int64),)\n"
     ]
    }
   ],
   "source": [
    "print(df_small.iloc[43,30].nonzero()) #Показали фингерпринт одного случайного лекарства"
   ]
  },
  {
   "cell_type": "code",
   "execution_count": 36,
   "metadata": {},
   "outputs": [
    {
     "name": "stdout",
     "output_type": "stream",
     "text": [
      "(150, 1024)\n",
      "['-tinib', '-olone', '-pin(e)', '-ium', '-vir', '-caine', '-oxacin', '-cillin', '-olol', 'sulfa-']\n"
     ]
    }
   ],
   "source": [
    "X = np.array([x for x in df_small['FP']])\n",
    "print(X.shape)\n",
    "print(list(common_stems.index))"
   ]
  },
  {
   "cell_type": "code",
   "execution_count": 43,
   "metadata": {},
   "outputs": [
    {
     "name": "stdout",
     "output_type": "stream",
     "text": [
      "[1. 6. 2. 0. 5. 9. 4. 3. 6. 1. 6. 0. 7. 1. 7. 4. 9. 8. 4. 9. 4. 4. 8. 9.\n",
      " 6. 6. 5. 2. 2. 8. 3. 6. 6. 0. 9. 7. 9. 8. 1. 8. 7. 7. 8. 1. 5. 0. 7. 8.\n",
      " 4. 6. 8. 0. 2. 9. 0. 8. 5. 5. 9. 3. 2. 9. 9. 3. 9. 1. 9. 1. 4. 9. 6. 5.\n",
      " 9. 1. 6. 5. 0. 1. 4. 0. 3. 6. 3. 8. 8. 0. 4. 4. 8. 5. 7. 3. 6. 2. 5. 4.\n",
      " 7. 7. 6. 7. 7. 2. 5. 8. 4. 7. 3. 4. 6. 6. 8. 3. 2. 7. 8. 8. 5. 1. 0. 3.\n",
      " 5. 1. 6. 9. 8. 3. 3. 7. 2. 7. 7. 4. 0. 7. 9. 2. 8. 6. 5. 0. 2. 9. 1. 5.\n",
      " 3. 2. 3. 4. 9. 5.]\n"
     ]
    },
    {
     "data": {
      "text/plain": [
       "(150, 1)"
      ]
     },
     "execution_count": 43,
     "metadata": {},
     "output_type": "execute_result"
    }
   ],
   "source": [
    "def get_y(s):\n",
    "    return (list(common_stems.index)).index(s)\n",
    "Y = np.zeros(len(X))\n",
    "for i  in range(len(X)):\n",
    "    Y[i] = get_y(df_small.iloc[i,6])\n",
    "print(Y)\n",
    "Y = Y.reshape(-1,1)\n",
    "Y.shape"
   ]
  },
  {
   "cell_type": "code",
   "execution_count": 71,
   "metadata": {},
   "outputs": [],
   "source": [
    "from sklearn.model_selection import train_test_split\n",
    "X_train, X_test, Y_train, Y_test = train_test_split(X,Y, random_state=1239, train_size=0.8, stratify=Y)"
   ]
  },
  {
   "cell_type": "code",
   "execution_count": 87,
   "metadata": {},
   "outputs": [
    {
     "name": "stdout",
     "output_type": "stream",
     "text": [
      "[8. 7. 5. 4. 2. 8. 9. 1. 3. 9. 0. 8. 8. 6. 9. 2. 7. 4. 9. 5. 1. 3. 6. 6.\n",
      " 0. 0. 5. 7. 6. 3.]\n"
     ]
    },
    {
     "name": "stderr",
     "output_type": "stream",
     "text": [
      "c:\\Users\\Hipor\\projects\\.venv\\Lib\\site-packages\\sklearn\\utils\\validation.py:1143: DataConversionWarning: A column-vector y was passed when a 1d array was expected. Please change the shape of y to (n_samples, ), for example using ravel().\n",
      "  y = column_or_1d(y, warn=True)\n"
     ]
    }
   ],
   "source": [
    "from sklearn.svm import SVC\n",
    "from sklearn import metrics\n",
    "from sklearn.preprocessing import StandardScaler\n",
    "#scaler = StandardScaler()\n",
    "#scaler.fit(X_train)\n",
    "#X_train_S = scaler.transform(X_train)\n",
    "#X_test_S = scaler.transform(X_test)\n",
    "clf4 = SVC()\n",
    "clf4.fit(X_train, Y_train)\n",
    "Y_pred = clf4.predict(X_test)\n",
    "metrics.accuracy_score(Y_test, Y_pred)\n",
    "print(Y_pred)"
   ]
  },
  {
   "cell_type": "code",
   "execution_count": 73,
   "metadata": {},
   "outputs": [
    {
     "name": "stderr",
     "output_type": "stream",
     "text": [
      "c:\\Users\\Hipor\\projects\\.venv\\Lib\\site-packages\\sklearn\\utils\\validation.py:1143: DataConversionWarning: A column-vector y was passed when a 1d array was expected. Please change the shape of y to (n_samples, ), for example using ravel().\n",
      "  y = column_or_1d(y, warn=True)\n"
     ]
    },
    {
     "data": {
      "text/plain": [
       "0.9666666666666667"
      ]
     },
     "execution_count": 73,
     "metadata": {},
     "output_type": "execute_result"
    }
   ],
   "source": [
    "from sklearn.linear_model import LogisticRegression\n",
    "\n",
    "clf6 = LogisticRegression()\n",
    "clf6.fit(X_train, Y_train)\n",
    "Y_pred = clf6.predict(X_test)\n",
    "metrics.accuracy_score(Y_test, Y_pred)"
   ]
  }
 ],
 "metadata": {
  "kernelspec": {
   "display_name": ".venv",
   "language": "python",
   "name": "python3"
  },
  "language_info": {
   "codemirror_mode": {
    "name": "ipython",
    "version": 3
   },
   "file_extension": ".py",
   "mimetype": "text/x-python",
   "name": "python",
   "nbconvert_exporter": "python",
   "pygments_lexer": "ipython3",
   "version": "3.11.0"
  },
  "orig_nbformat": 4
 },
 "nbformat": 4,
 "nbformat_minor": 2
}
