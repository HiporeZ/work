{
 "cells": [
  {
   "cell_type": "code",
   "execution_count": 1,
   "metadata": {},
   "outputs": [],
   "source": [
    "%matplotlib inline\n",
    "import pandas as pd\n",
    "import matplotlib.pylab as plt\n",
    "from sklearn import metrics"
   ]
  },
  {
   "cell_type": "code",
   "execution_count": 2,
   "metadata": {},
   "outputs": [
    {
     "name": "stdout",
     "output_type": "stream",
     "text": [
      "Fitted parameters:\n"
     ]
    },
    {
     "data": {
      "text/latex": [
       "$\\displaystyle a_0=9.95, a_1=0.68, \\omega=1.55, \\phi=-4.42$"
      ],
      "text/plain": [
       "<IPython.core.display.Math object>"
      ]
     },
     "metadata": {},
     "output_type": "display_data"
    },
    {
     "name": "stdout",
     "output_type": "stream",
     "text": [
      "Original parameters:\n"
     ]
    },
    {
     "data": {
      "text/latex": [
       "$\\displaystyle a_0=10.00, a_1=5.00, \\omega=3.00, \\phi=2.00$"
      ],
      "text/plain": [
       "<IPython.core.display.Math object>"
      ]
     },
     "metadata": {},
     "output_type": "display_data"
    }
   ],
   "source": [
    "\n",
    "from scipy import optimize\n",
    "import numpy as np\n",
    "from IPython.display import display, Math\n",
    "seed = 12345512\n",
    "np.random.seed(seed)\n",
    "\n",
    "n = 100\n",
    "x_data = np.linspace(-5, 5, num=n)\n",
    "y_data = 10 + 5 * np.cos(3 * x_data + 2) + 1.5 * np.random.normal(size=n)\n",
    "def test_func(x, dist, amp, omega, phi):\n",
    "    return dist + amp * np.cos(omega * x + phi)\n",
    "from sklearn.model_selection import train_test_split\n",
    "X_train, X_test, y_train, y_test = train_test_split(x_data, y_data, test_size=0.2, random_state=42)\n",
    "params, params_covariance = optimize.curve_fit(test_func, x_data, y_data, p0=[1, 1, 2, 1])\n",
    "\n",
    "print('Fitted parameters:')\n",
    "display(Math('a_0={:.2f}, a_1={:.2f}, \\\\omega={:.2f}, \\\\phi={:.2f}'.format(*params)))\n",
    "print('Original parameters:')\n",
    "display(Math('a_0={:.2f}, a_1={:.2f}, \\\\omega={:.2f}, \\\\phi={:.2f}'.format(*[10.0, 5.0, 3.0, 2.0])))"
   ]
  },
  {
   "cell_type": "code",
   "execution_count": 3,
   "metadata": {},
   "outputs": [
    {
     "name": "stdout",
     "output_type": "stream",
     "text": [
      "100%|██████████| 1000/1000 [00:18<00:00, 55.19trial/s, best loss: 2.8787338483131575]\n",
      "Fitted parameters:\n"
     ]
    },
    {
     "data": {
      "text/latex": [
       "$\\displaystyle a_0=9.63, a_1=4.57, \\omega=2.95, \\phi=2.22$"
      ],
      "text/plain": [
       "<IPython.core.display.Math object>"
      ]
     },
     "metadata": {},
     "output_type": "display_data"
    },
    {
     "name": "stdout",
     "output_type": "stream",
     "text": [
      "Original parameters:\n"
     ]
    },
    {
     "data": {
      "text/latex": [
       "$\\displaystyle a_0=10.00, a_1=5.00, \\omega=3.00, \\phi=2.00$"
      ],
      "text/plain": [
       "<IPython.core.display.Math object>"
      ]
     },
     "metadata": {},
     "output_type": "display_data"
    }
   ],
   "source": [
    "\n",
    "def objective(a0, a1, w, f):\n",
    "    \"\"\"Objective function to minimize\"\"\"\n",
    "    return np.mean((a0+ a1 * np.cos(w*X_train + f) - y_train)**2)\n",
    "\n",
    "def objective2(args):\n",
    "    return objective(*args)\n",
    "\n",
    "from hyperopt import hp, tpe, Trials, fmin\n",
    "from IPython.display import display, Math\n",
    "\n",
    "space = [hp.uniform('a0', 5, 15),\n",
    "         hp.uniform('a1', 0, 10), \n",
    "         hp.uniform('w', 0, 10), \n",
    "         hp.uniform('f', -np.pi, np.pi)]\n",
    "\n",
    "tpe_algo = tpe.suggest\n",
    "tpe_trials = Trials()\n",
    "\n",
    "tpe_best = fmin(fn=objective2, space=space, algo=tpe_algo, trials=tpe_trials, max_evals=1000)\n",
    "\n",
    "print('Fitted parameters:')\n",
    "display(Math('a_0={a0:.2f}, a_1={a1:.2f}, \\\\omega={w:.2f}, \\\\phi={f:.2f}'.format(**tpe_best)))\n",
    "print('Original parameters:')\n",
    "display(Math('a_0={:.2f}, a_1={:.2f}, \\\\omega={:.2f}, \\\\phi={:.2f}'.format(*[10.0, 5.0, 3.0, 2.0])))"
   ]
  },
  {
   "cell_type": "code",
   "execution_count": 4,
   "metadata": {},
   "outputs": [],
   "source": [
    "df = pd.read_csv('data.txt',header=None, sep=' ')"
   ]
  },
  {
   "cell_type": "code",
   "execution_count": 5,
   "metadata": {},
   "outputs": [],
   "source": [
    "y_train = df.iloc[:, 1].values\n",
    "x_train = df.iloc[:, 0].values"
   ]
  },
  {
   "cell_type": "code",
   "execution_count": 6,
   "metadata": {},
   "outputs": [
    {
     "name": "stdout",
     "output_type": "stream",
     "text": [
      "[18960.59804327  2051.64298103  1314.92661865 ... 12272.4982934\n",
      "   794.17429424 65611.55813711]\n"
     ]
    }
   ],
   "source": [
    "print(y_train)"
   ]
  },
  {
   "cell_type": "code",
   "execution_count": 45,
   "metadata": {},
   "outputs": [],
   "source": [
    "def test_func(x, a, b, c, da,db,dc):\n",
    "    return ((a+da)*(np.e**x) + (b+db)*(x**0.75))**2 + (c+dc)*(np.cos(x)**2)\n"
   ]
  },
  {
   "cell_type": "code",
   "execution_count": 8,
   "metadata": {},
   "outputs": [
    {
     "data": {
      "image/png": "[encoded data removed]",
      "text/plain": [
       "<Figure size 500x500 with 1 Axes>"
      ]
     },
     "metadata": {},
     "output_type": "display_data"
    }
   ],
   "source": [
    "figure, ax  = plt.subplots(figsize=(5, 5))\n",
    "\n",
    "ax.scatter(df.iloc[:, 0], df.iloc[:, 1], marker='.', )\n",
    "\n",
    "plt.tight_layout()\n",
    "plt.show()"
   ]
  },
  {
   "cell_type": "code",
   "execution_count": 50,
   "metadata": {},
   "outputs": [
    {
     "data": {
      "image/png": "[encoded data removed]",
      "text/plain": [
       "<Figure size 500x500 with 1 Axes>"
      ]
     },
     "metadata": {},
     "output_type": "display_data"
    }
   ],
   "source": [
    "figure, ax  = plt.subplots(figsize=(5, 5))\n",
    "y = [test_func(i, 2.09,20.22,-11.53, 0.000118,0.00066,-0.00056) for i in df.iloc[:, 0]]\n",
    "ax.scatter(df.iloc[:, 0],y, marker='.', )\n",
    "\n",
    "plt.tight_layout()\n",
    "\n",
    "plt.show()"
   ]
  },
  {
   "cell_type": "code",
   "execution_count": 52,
   "metadata": {},
   "outputs": [
    {
     "name": "stdout",
     "output_type": "stream",
     "text": [
      "601.0325238070266\n"
     ]
    }
   ],
   "source": [
    "y = [test_func(i, 2.09,20.22,-11.53, 0.000118,0.00066,-0.00056) for i in df.iloc[:, 0]]\n",
    "print(metrics.mean_squared_error(y_train,y))"
   ]
  },
  {
   "cell_type": "code",
   "execution_count": 35,
   "metadata": {},
   "outputs": [
    {
     "name": "stdout",
     "output_type": "stream",
     "text": [
      "0.0009999933336176333 -0.0009999353049970415\n"
     ]
    }
   ],
   "source": [
    "da = (np.random.sample(int(1e5))-0.5)/500\n",
    "print(max(da),min(da))"
   ]
  },
  {
   "cell_type": "code",
   "execution_count": 36,
   "metadata": {},
   "outputs": [],
   "source": [
    "da = (np.random.sample(int(1e5))-0.5)/500\n",
    "db = (np.random.sample(int(1e5))-0.5)/500\n",
    "dc = (np.random.sample(int(1e5))-0.5)/500"
   ]
  },
  {
   "cell_type": "code",
   "execution_count": 61,
   "metadata": {},
   "outputs": [
    {
     "name": "stdout",
     "output_type": "stream",
     "text": [
      "100%|██████████| 1000/1000 [00:31<00:00, 32.08trial/s, best loss: 279.28657366511254]\n",
      "Fitted parameters:\n"
     ]
    },
    {
     "data": {
      "text/latex": [
       "$\\displaystyle c=0.02,da=-0.00056,db=-0.00093,dc=-0.00071$"
      ],
      "text/plain": [
       "<IPython.core.display.Math object>"
      ]
     },
     "metadata": {},
     "output_type": "display_data"
    }
   ],
   "source": [
    "def objective(c,da,db,dc):\n",
    "    \"\"\"Objective function to minimize\"\"\"\n",
    "    a=2.09\n",
    "    b=20.22\n",
    "    return np.mean((((a+da)*(np.e**x_train) + (b+db)*(x_train**0.75))**2 + (c+dc)*(np.cos(x_train)**2) - y_train)**2)\n",
    "\n",
    "def objective2(args):\n",
    "    return objective(*args)\n",
    "\n",
    "space = [hp.uniform('c', 0, 50),\n",
    "         hp.uniform('da', -0.001, 0.001),\n",
    "         hp.uniform('db', -0.001, 0.001),\n",
    "         hp.uniform('dc', -0.001, 0.001)]\n",
    "\n",
    "tpe_algo = tpe.suggest\n",
    "tpe_trials = Trials()\n",
    "\n",
    "tpe_best = fmin(fn=objective2, space=space, algo=tpe_algo, trials=tpe_trials, max_evals=1000)\n",
    "\n",
    "print('Fitted parameters:')\n",
    "display(Math('c={c:.2f},da={da:.5f},db={db:.5f},dc={dc:.5f}'.format(**tpe_best)))\n"
   ]
  },
  {
   "cell_type": "markdown",
   "metadata": {},
   "source": [
    "k = int(input())\n",
    "book ={}\n",
    "for i in range(k):\n",
    "    word = input()\n",
    "    if word not in book:\n",
    "        book[word] = 1\n",
    "print(len(book))"
   ]
  },
  {
   "cell_type": "markdown",
   "metadata": {},
   "source": [
    "n, m = map(int,input().split())\n",
    "book = [[] for _ in range(m+1)]\n",
    "final = []\n",
    "for i in range(n):\n",
    "    obj = int(input())\n",
    "    book[obj].append(i)\n",
    "for i in range(n):\n",
    "    for j in range(m):\n",
    "        if i == 0 and j == 0:\n",
    "            x = book[0].pop(0)\n",
    "            final.append(x)\n",
    "            k = 1\n",
    "            print(x)\n",
    "        else:\n",
    "            if k == m+1:\n",
    "                k=0\n",
    "            elif book[k] != []:\n",
    "                final.append(book[k].pop(0))\n",
    "                k+=1\n",
    "            else:\n",
    "                k+=1\n",
    "    \n",
    "print(*final)"
   ]
  },
  {
   "cell_type": "code",
   "execution_count": 46,
   "metadata": {},
   "outputs": [
    {
     "name": "stdout",
     "output_type": "stream",
     "text": [
      "{'a': 2.089311900126067, 'b': 20.221143754821785, 'c': -11.534744381528473, 'da': 0.0001184043398330487, 'db': 0.0006664590499713955, 'dc': -0.0005620215626137928}\n"
     ]
    }
   ],
   "source": [
    "print(tpe_best)"
   ]
  },
  {
   "cell_type": "code",
   "execution_count": 54,
   "metadata": {},
   "outputs": [
    {
     "name": "stdout",
     "output_type": "stream",
     "text": [
      "254.06003961635443\n"
     ]
    }
   ],
   "source": [
    "y = [test_func(i, **tpe_best) for i in df.iloc[:, 0]]\n",
    "print(metrics.mean_squared_error(y_train,y))"
   ]
  }
 ],
 "metadata": {
  "kernelspec": {
   "display_name": "Python310",
   "language": "python",
   "name": "python3"
  },
  "language_info": {
   "codemirror_mode": {
    "name": "ipython",
    "version": 3
   },
   "file_extension": ".py",
   "mimetype": "text/x-python",
   "name": "python",
   "nbconvert_exporter": "python",
   "pygments_lexer": "ipython3",
   "version": "3.10.6"
  },
  "orig_nbformat": 4
 },
 "nbformat": 4,
 "nbformat_minor": 2
}
