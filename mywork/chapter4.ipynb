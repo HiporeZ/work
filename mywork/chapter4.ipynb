{
 "cells": [
  {
   "cell_type": "code",
   "execution_count": 6,
   "metadata": {},
   "outputs": [],
   "source": [
    "from pathlib import Path\n",
    "\n",
    "import pandas as pd\n",
    "import numpy as np\n",
    "from sklearn.metrics import r2_score, mean_squared_error\n",
    "from sklearn.linear_model import LinearRegression\n",
    "\n",
    "import statsmodels.api as sm\n",
    "import statsmodels.formula.api as smf\n",
    "from statsmodels.stats.outliers_influence import OLSInfluence\n",
    "\n",
    "\n",
    "from pygam import LinearGAM, s, l\n",
    "from pygam.datasets import wage\n",
    "\n",
    "\n",
    "import seaborn as sns\n",
    "import matplotlib.pyplot as plt\n",
    "\n",
    "from dmba import stepwise_selection\n",
    "from dmba import AIC_score"
   ]
  },
  {
   "cell_type": "code",
   "execution_count": 7,
   "metadata": {},
   "outputs": [],
   "source": [
    "%matplotlib inline\n",
    "DATA = r'C:\\Users\\User\\Documents\\GitHub\\work\\practical-statistics-for-data-scientists\\data\\\\'"
   ]
  },
  {
   "cell_type": "code",
   "execution_count": 8,
   "metadata": {},
   "outputs": [],
   "source": [
    "LUNG_CSV = DATA + 'LungDisease.csv'\n",
    "HOUSE_CSV = DATA + 'house_sales.csv'"
   ]
  },
  {
   "attachments": {},
   "cell_type": "markdown",
   "metadata": {},
   "source": [
    "# Простая линейная регрессия"
   ]
  },
  {
   "cell_type": "code",
   "execution_count": 9,
   "metadata": {},
   "outputs": [
    {
     "data": {
      "text/html": [
       "<div>\n",
       "<style scoped>\n",
       "    .dataframe tbody tr th:only-of-type {\n",
       "        vertical-align: middle;\n",
       "    }\n",
       "\n",
       "    .dataframe tbody tr th {\n",
       "        vertical-align: top;\n",
       "    }\n",
       "\n",
       "    .dataframe thead th {\n",
       "        text-align: right;\n",
       "    }\n",
       "</style>\n",
       "<table border=\"1\" class=\"dataframe\">\n",
       "  <thead>\n",
       "    <tr style=\"text-align: right;\">\n",
       "      <th></th>\n",
       "      <th>PEFR</th>\n",
       "      <th>Exposure</th>\n",
       "    </tr>\n",
       "  </thead>\n",
       "  <tbody>\n",
       "    <tr>\n",
       "      <th>0</th>\n",
       "      <td>390</td>\n",
       "      <td>0</td>\n",
       "    </tr>\n",
       "    <tr>\n",
       "      <th>1</th>\n",
       "      <td>410</td>\n",
       "      <td>0</td>\n",
       "    </tr>\n",
       "    <tr>\n",
       "      <th>2</th>\n",
       "      <td>430</td>\n",
       "      <td>0</td>\n",
       "    </tr>\n",
       "    <tr>\n",
       "      <th>3</th>\n",
       "      <td>460</td>\n",
       "      <td>0</td>\n",
       "    </tr>\n",
       "    <tr>\n",
       "      <th>4</th>\n",
       "      <td>420</td>\n",
       "      <td>1</td>\n",
       "    </tr>\n",
       "    <tr>\n",
       "      <th>5</th>\n",
       "      <td>280</td>\n",
       "      <td>2</td>\n",
       "    </tr>\n",
       "    <tr>\n",
       "      <th>6</th>\n",
       "      <td>420</td>\n",
       "      <td>2</td>\n",
       "    </tr>\n",
       "    <tr>\n",
       "      <th>7</th>\n",
       "      <td>520</td>\n",
       "      <td>2</td>\n",
       "    </tr>\n",
       "    <tr>\n",
       "      <th>8</th>\n",
       "      <td>610</td>\n",
       "      <td>3</td>\n",
       "    </tr>\n",
       "    <tr>\n",
       "      <th>9</th>\n",
       "      <td>590</td>\n",
       "      <td>3</td>\n",
       "    </tr>\n",
       "    <tr>\n",
       "      <th>10</th>\n",
       "      <td>430</td>\n",
       "      <td>3</td>\n",
       "    </tr>\n",
       "    <tr>\n",
       "      <th>11</th>\n",
       "      <td>410</td>\n",
       "      <td>3</td>\n",
       "    </tr>\n",
       "    <tr>\n",
       "      <th>12</th>\n",
       "      <td>360</td>\n",
       "      <td>3</td>\n",
       "    </tr>\n",
       "    <tr>\n",
       "      <th>13</th>\n",
       "      <td>320</td>\n",
       "      <td>3</td>\n",
       "    </tr>\n",
       "  </tbody>\n",
       "</table>\n",
       "</div>"
      ],
      "text/plain": [
       "    PEFR  Exposure\n",
       "0    390         0\n",
       "1    410         0\n",
       "2    430         0\n",
       "3    460         0\n",
       "4    420         1\n",
       "5    280         2\n",
       "6    420         2\n",
       "7    520         2\n",
       "8    610         3\n",
       "9    590         3\n",
       "10   430         3\n",
       "11   410         3\n",
       "12   360         3\n",
       "13   320         3"
      ]
     },
     "execution_count": 9,
     "metadata": {},
     "output_type": "execute_result"
    }
   ],
   "source": [
    "lung = pd.read_csv(LUNG_CSV)\n",
    "lung.head(14)"
   ]
  },
  {
   "cell_type": "code",
   "execution_count": 10,
   "metadata": {},
   "outputs": [
    {
     "data": {
      "image/png": "[encoded data removed]",
      "text/plain": [
       "<Figure size 640x480 with 1 Axes>"
      ]
     },
     "metadata": {},
     "output_type": "display_data"
    }
   ],
   "source": [
    "lung.plot.scatter(x='Exposure', y='PEFR')\n",
    "\n",
    "plt.tight_layout()\n",
    "plt.show()"
   ]
  },
  {
   "cell_type": "code",
   "execution_count": null,
   "metadata": {},
   "outputs": [],
   "source": []
  },
  {
   "cell_type": "code",
   "execution_count": 11,
   "metadata": {},
   "outputs": [
    {
     "name": "stdout",
     "output_type": "stream",
     "text": [
      "Свободный член:  424.583\n",
      "Угол наклона: -4.185\n"
     ]
    }
   ],
   "source": [
    "\n",
    "rgr1 = LinearRegression()\n",
    "rgr1.fit(lung[['Exposure']], lung.iloc[:,0])\n",
    "\n",
    "print(f'Свободный член: {rgr1.intercept_: .3f}')\n",
    "print(f'Угол наклона: {rgr1.coef_[0]: .3f}')"
   ]
  },
  {
   "cell_type": "code",
   "execution_count": 12,
   "metadata": {},
   "outputs": [
    {
     "name": "stderr",
     "output_type": "stream",
     "text": [
      "c:\\Users\\User\\AppData\\Local\\Programs\\Python\\Python310\\lib\\site-packages\\sklearn\\base.py:439: UserWarning: X does not have valid feature names, but LinearRegression was fitted with feature names\n",
      "  warnings.warn(\n",
      "c:\\Users\\User\\AppData\\Local\\Programs\\Python\\Python310\\lib\\site-packages\\sklearn\\base.py:439: UserWarning: X does not have valid feature names, but LinearRegression was fitted with feature names\n",
      "  warnings.warn(\n"
     ]
    },
    {
     "data": {
      "image/png": "[encoded data removed]",
      "text/plain": [
       "<Figure size 500x500 with 1 Axes>"
      ]
     },
     "metadata": {},
     "output_type": "display_data"
    }
   ],
   "source": [
    "figure, ax = plt.subplots(figsize = (5,5))\n",
    "\n",
    "ax.set_xlim(0,23)\n",
    "ax.set_ylim(290,450)\n",
    "\n",
    "ax.set_xlabel('Exposure')\n",
    "ax.set_ylabel('PEFR')\n",
    "\n",
    "ax.plot(np.arange(0,24), rgr1.predict(np.arange(0,24).reshape(-1,1)))\n",
    "x = np.array([7,17]).reshape(-1,1)\n",
    "y = rgr1.predict(x)\n",
    "ax.text(0.2,430, f'$b_0={rgr1.intercept_: .3f}$',\n",
    "          verticalalignment='center')\n",
    "ax.text(15,400, r'$b_1= \\frac{\\Delta Y}{\\Delta X}$' + f'$={rgr1.coef_[0]: .3f}$',\n",
    "          verticalalignment='center', horizontalalignment='center', size='larger')\n",
    "\n",
    "ax.plot((x[0],x[0],x[1]), (y[0],y[1],y[1]), '--')\n",
    "ax.text(5, np.mean(y), r'$\\Delta Y$', size='larger')\n",
    "ax.text(12, y[1] - 10, r'$\\Delta X$', size='larger')\n",
    "\n",
    "plt.tight_layout()\n",
    "plt.show()"
   ]
  },
  {
   "cell_type": "code",
   "execution_count": 13,
   "metadata": {},
   "outputs": [],
   "source": [
    "fitted = rgr1.predict(lung[['Exposure']])\n",
    "residuals = lung['PEFR'] - fitted #рассчитываем остатки"
   ]
  },
  {
   "cell_type": "code",
   "execution_count": 14,
   "metadata": {},
   "outputs": [
    {
     "data": {
      "image/png": "[encoded data removed]",
      "text/plain": [
       "<Figure size 500x500 with 1 Axes>"
      ]
     },
     "metadata": {},
     "output_type": "display_data"
    }
   ],
   "source": [
    "ax = lung.plot.scatter(x='Exposure', y='PEFR', figsize=(5,5))\n",
    "ax.plot(lung['Exposure'], fitted, color='black')\n",
    "ax.plot((lung['Exposure'],lung['Exposure']), (lung['PEFR'], fitted), color='C1',\n",
    "        linestyle=(0, (2,2)))\n",
    "\n",
    "plt.tight_layout()\n",
    "plt.show()"
   ]
  },
  {
   "cell_type": "code",
   "execution_count": 15,
   "metadata": {},
   "outputs": [
    {
     "data": {
      "text/html": [
       "<div>\n",
       "<style scoped>\n",
       "    .dataframe tbody tr th:only-of-type {\n",
       "        vertical-align: middle;\n",
       "    }\n",
       "\n",
       "    .dataframe tbody tr th {\n",
       "        vertical-align: top;\n",
       "    }\n",
       "\n",
       "    .dataframe thead th {\n",
       "        text-align: right;\n",
       "    }\n",
       "</style>\n",
       "<table border=\"1\" class=\"dataframe\">\n",
       "  <thead>\n",
       "    <tr style=\"text-align: right;\">\n",
       "      <th></th>\n",
       "      <th>AdjSalePrice</th>\n",
       "      <th>SqFtTotLiving</th>\n",
       "      <th>SqFtLot</th>\n",
       "      <th>Bathrooms</th>\n",
       "      <th>Bedrooms</th>\n",
       "      <th>BldgGrade</th>\n",
       "    </tr>\n",
       "  </thead>\n",
       "  <tbody>\n",
       "    <tr>\n",
       "      <th>1</th>\n",
       "      <td>300805.0</td>\n",
       "      <td>2400</td>\n",
       "      <td>9373</td>\n",
       "      <td>3.00</td>\n",
       "      <td>6</td>\n",
       "      <td>7</td>\n",
       "    </tr>\n",
       "    <tr>\n",
       "      <th>2</th>\n",
       "      <td>1076162.0</td>\n",
       "      <td>3764</td>\n",
       "      <td>20156</td>\n",
       "      <td>3.75</td>\n",
       "      <td>4</td>\n",
       "      <td>10</td>\n",
       "    </tr>\n",
       "    <tr>\n",
       "      <th>3</th>\n",
       "      <td>761805.0</td>\n",
       "      <td>2060</td>\n",
       "      <td>26036</td>\n",
       "      <td>1.75</td>\n",
       "      <td>4</td>\n",
       "      <td>8</td>\n",
       "    </tr>\n",
       "    <tr>\n",
       "      <th>4</th>\n",
       "      <td>442065.0</td>\n",
       "      <td>3200</td>\n",
       "      <td>8618</td>\n",
       "      <td>3.75</td>\n",
       "      <td>5</td>\n",
       "      <td>7</td>\n",
       "    </tr>\n",
       "    <tr>\n",
       "      <th>5</th>\n",
       "      <td>297065.0</td>\n",
       "      <td>1720</td>\n",
       "      <td>8620</td>\n",
       "      <td>1.75</td>\n",
       "      <td>4</td>\n",
       "      <td>7</td>\n",
       "    </tr>\n",
       "  </tbody>\n",
       "</table>\n",
       "</div>"
      ],
      "text/plain": [
       "   AdjSalePrice  SqFtTotLiving  SqFtLot  Bathrooms  Bedrooms  BldgGrade\n",
       "1      300805.0           2400     9373       3.00         6          7\n",
       "2     1076162.0           3764    20156       3.75         4         10\n",
       "3      761805.0           2060    26036       1.75         4          8\n",
       "4      442065.0           3200     8618       3.75         5          7\n",
       "5      297065.0           1720     8620       1.75         4          7"
      ]
     },
     "execution_count": 15,
     "metadata": {},
     "output_type": "execute_result"
    }
   ],
   "source": [
    "house = pd.read_csv(HOUSE_CSV, sep='\\t')\n",
    "subset = ['AdjSalePrice', 'SqFtTotLiving', 'SqFtLot', 'Bathrooms', \n",
    "          'Bedrooms', 'BldgGrade']\n",
    "house[subset].head()"
   ]
  },
  {
   "cell_type": "code",
   "execution_count": 16,
   "metadata": {},
   "outputs": [
    {
     "name": "stdout",
     "output_type": "stream",
     "text": [
      "Свободный член: -521871.368\n",
      "Коэффициенты:\n",
      "SqFtTotLiving:  228.831\n",
      "SqFtLot: -0.060\n",
      "Bathrooms: -19442.840\n",
      "Bedrooms: -47769.955\n",
      "BldgGrade:  106106.963\n"
     ]
    }
   ],
   "source": [
    "predictors = ['SqFtTotLiving', 'SqFtLot', 'Bathrooms', \n",
    "          'Bedrooms', 'BldgGrade']\n",
    "outcome = 'AdjSalePrice'\n",
    "\n",
    "house_lm = LinearRegression()\n",
    "house_lm.fit(house[predictors], house[outcome])\n",
    "\n",
    "print(f\"Свободный член: {house_lm.intercept_: .3f}\")\n",
    "print(\"Коэффициенты:\")\n",
    "for name, coef in zip(predictors, house_lm.coef_):\n",
    "    print(f'{name}: {coef: .3f}')"
   ]
  },
  {
   "cell_type": "code",
   "execution_count": 17,
   "metadata": {},
   "outputs": [
    {
     "name": "stdout",
     "output_type": "stream",
     "text": [
      "R2:  0.5406\n",
      "RMSE:  261220\n"
     ]
    }
   ],
   "source": [
    "fitted = house_lm.predict(house[predictors])\n",
    "RMSE = np.sqrt(mean_squared_error(house[outcome], fitted))\n",
    "r2 = r2_score(house[outcome], fitted)\n",
    "print(f'R2: {r2: .4f}')\n",
    "print(f'RMSE: {RMSE: .0f}')"
   ]
  },
  {
   "cell_type": "code",
   "execution_count": 18,
   "metadata": {},
   "outputs": [
    {
     "name": "stdout",
     "output_type": "stream",
     "text": [
      "                            OLS Regression Results                            \n",
      "==============================================================================\n",
      "Dep. Variable:           AdjSalePrice   R-squared:                       0.541\n",
      "Model:                            OLS   Adj. R-squared:                  0.540\n",
      "Method:                 Least Squares   F-statistic:                     5338.\n",
      "Date:                Thu, 20 Apr 2023   Prob (F-statistic):               0.00\n",
      "Time:                        11:40:40   Log-Likelihood:            -3.1517e+05\n",
      "No. Observations:               22687   AIC:                         6.304e+05\n",
      "Df Residuals:                   22681   BIC:                         6.304e+05\n",
      "Df Model:                           5                                         \n",
      "Covariance Type:            nonrobust                                         \n",
      "=================================================================================\n",
      "                    coef    std err          t      P>|t|      [0.025      0.975]\n",
      "---------------------------------------------------------------------------------\n",
      "SqFtTotLiving   228.8306      3.899     58.694      0.000     221.189     236.472\n",
      "SqFtLot          -0.0605      0.061     -0.988      0.323      -0.180       0.059\n",
      "Bathrooms     -1.944e+04   3625.388     -5.363      0.000   -2.65e+04   -1.23e+04\n",
      "Bedrooms      -4.777e+04   2489.732    -19.187      0.000   -5.27e+04   -4.29e+04\n",
      "BldgGrade      1.061e+05   2396.445     44.277      0.000    1.01e+05    1.11e+05\n",
      "const         -5.219e+05   1.57e+04    -33.342      0.000   -5.53e+05   -4.91e+05\n",
      "==============================================================================\n",
      "Omnibus:                    29676.557   Durbin-Watson:                   1.247\n",
      "Prob(Omnibus):                  0.000   Jarque-Bera (JB):         19390738.346\n",
      "Skew:                           6.889   Prob(JB):                         0.00\n",
      "Kurtosis:                     145.559   Cond. No.                     2.86e+05\n",
      "==============================================================================\n",
      "\n",
      "Notes:\n",
      "[1] Standard Errors assume that the covariance matrix of the errors is correctly specified.\n",
      "[2] The condition number is large, 2.86e+05. This might indicate that there are\n",
      "strong multicollinearity or other numerical problems.\n"
     ]
    }
   ],
   "source": [
    "model = sm.OLS(house[outcome], house[predictors].assign(const=1))\n",
    "results = model.fit()\n",
    "print(results.summary())"
   ]
  },
  {
   "cell_type": "code",
   "execution_count": 19,
   "metadata": {},
   "outputs": [
    {
     "name": "stdout",
     "output_type": "stream",
     "text": [
      "                            OLS Regression Results                            \n",
      "==============================================================================\n",
      "Dep. Variable:           AdjSalePrice   R-squared:                       0.595\n",
      "Model:                            OLS   Adj. R-squared:                  0.594\n",
      "Method:                 Least Squares   F-statistic:                     2771.\n",
      "Date:                Thu, 20 Apr 2023   Prob (F-statistic):               0.00\n",
      "Time:                        11:40:40   Log-Likelihood:            -3.1375e+05\n",
      "No. Observations:               22687   AIC:                         6.275e+05\n",
      "Df Residuals:                   22674   BIC:                         6.276e+05\n",
      "Df Model:                          12                                         \n",
      "Covariance Type:            nonrobust                                         \n",
      "==============================================================================================\n",
      "                                 coef    std err          t      P>|t|      [0.025      0.975]\n",
      "----------------------------------------------------------------------------------------------\n",
      "SqFtTotLiving                198.6364      4.234     46.920      0.000     190.338     206.934\n",
      "SqFtLot                        0.0771      0.058      1.330      0.184      -0.037       0.191\n",
      "Bathrooms                   4.286e+04   3808.114     11.255      0.000    3.54e+04    5.03e+04\n",
      "Bedrooms                   -5.187e+04   2396.904    -21.638      0.000   -5.66e+04   -4.72e+04\n",
      "BldgGrade                   1.373e+05   2441.242     56.228      0.000    1.32e+05    1.42e+05\n",
      "NbrLivingUnits              5723.8438   1.76e+04      0.326      0.744   -2.87e+04    4.01e+04\n",
      "SqFtFinBasement                7.0611      4.627      1.526      0.127      -2.009      16.131\n",
      "YrBuilt                    -3574.2210     77.228    -46.282      0.000   -3725.593   -3422.849\n",
      "YrRenovated                   -2.5311      3.924     -0.645      0.519     -10.222       5.160\n",
      "NewConstruction            -2489.1122   5936.692     -0.419      0.675   -1.41e+04    9147.211\n",
      "PropertyType_Single Family  2.997e+04   2.61e+04      1.149      0.251   -2.12e+04    8.11e+04\n",
      "PropertyType_Townhouse      9.286e+04    2.7e+04      3.438      0.001    3.99e+04    1.46e+05\n",
      "const                       6.182e+06   1.55e+05     39.902      0.000    5.88e+06    6.49e+06\n",
      "==============================================================================\n",
      "Omnibus:                    31006.128   Durbin-Watson:                   1.393\n",
      "Prob(Omnibus):                  0.000   Jarque-Bera (JB):         26251977.078\n",
      "Skew:                           7.427   Prob(JB):                         0.00\n",
      "Kurtosis:                     168.984   Cond. No.                     2.98e+06\n",
      "==============================================================================\n",
      "\n",
      "Notes:\n",
      "[1] Standard Errors assume that the covariance matrix of the errors is correctly specified.\n",
      "[2] The condition number is large, 2.98e+06. This might indicate that there are\n",
      "strong multicollinearity or other numerical problems.\n"
     ]
    }
   ],
   "source": [
    "predictors = ['SqFtTotLiving', 'SqFtLot', 'Bathrooms', 'Bedrooms',\n",
    "              'BldgGrade', 'PropertyType', 'NbrLivingUnits',\n",
    "              'SqFtFinBasement', 'YrBuilt', 'YrRenovated', \n",
    "              'NewConstruction']\n",
    "X = pd.get_dummies(house[predictors], drop_first=True)\n",
    "X['NewConstruction'] = [1 if nc else 0 for nc in X['NewConstruction']]\n",
    "house_full = sm.OLS(house[outcome], X.assign(const=1))\n",
    "results = house_full.fit()\n",
    "print(results.summary())"
   ]
  },
  {
   "cell_type": "code",
   "execution_count": 20,
   "metadata": {},
   "outputs": [
    {
     "data": {
      "text/html": [
       "<div>\n",
       "<style scoped>\n",
       "    .dataframe tbody tr th:only-of-type {\n",
       "        vertical-align: middle;\n",
       "    }\n",
       "\n",
       "    .dataframe tbody tr th {\n",
       "        vertical-align: top;\n",
       "    }\n",
       "\n",
       "    .dataframe thead th {\n",
       "        text-align: right;\n",
       "    }\n",
       "</style>\n",
       "<table border=\"1\" class=\"dataframe\">\n",
       "  <thead>\n",
       "    <tr style=\"text-align: right;\">\n",
       "      <th></th>\n",
       "      <th>SqFtTotLiving</th>\n",
       "      <th>SqFtLot</th>\n",
       "      <th>Bathrooms</th>\n",
       "      <th>Bedrooms</th>\n",
       "      <th>BldgGrade</th>\n",
       "      <th>PropertyType</th>\n",
       "      <th>NbrLivingUnits</th>\n",
       "      <th>SqFtFinBasement</th>\n",
       "      <th>YrBuilt</th>\n",
       "      <th>YrRenovated</th>\n",
       "      <th>NewConstruction</th>\n",
       "    </tr>\n",
       "  </thead>\n",
       "  <tbody>\n",
       "    <tr>\n",
       "      <th>1</th>\n",
       "      <td>2400</td>\n",
       "      <td>9373</td>\n",
       "      <td>3.00</td>\n",
       "      <td>6</td>\n",
       "      <td>7</td>\n",
       "      <td>Multiplex</td>\n",
       "      <td>2</td>\n",
       "      <td>0</td>\n",
       "      <td>1991</td>\n",
       "      <td>0</td>\n",
       "      <td>False</td>\n",
       "    </tr>\n",
       "    <tr>\n",
       "      <th>2</th>\n",
       "      <td>3764</td>\n",
       "      <td>20156</td>\n",
       "      <td>3.75</td>\n",
       "      <td>4</td>\n",
       "      <td>10</td>\n",
       "      <td>Single Family</td>\n",
       "      <td>1</td>\n",
       "      <td>1452</td>\n",
       "      <td>2005</td>\n",
       "      <td>0</td>\n",
       "      <td>True</td>\n",
       "    </tr>\n",
       "    <tr>\n",
       "      <th>3</th>\n",
       "      <td>2060</td>\n",
       "      <td>26036</td>\n",
       "      <td>1.75</td>\n",
       "      <td>4</td>\n",
       "      <td>8</td>\n",
       "      <td>Single Family</td>\n",
       "      <td>1</td>\n",
       "      <td>900</td>\n",
       "      <td>1947</td>\n",
       "      <td>0</td>\n",
       "      <td>False</td>\n",
       "    </tr>\n",
       "    <tr>\n",
       "      <th>4</th>\n",
       "      <td>3200</td>\n",
       "      <td>8618</td>\n",
       "      <td>3.75</td>\n",
       "      <td>5</td>\n",
       "      <td>7</td>\n",
       "      <td>Single Family</td>\n",
       "      <td>1</td>\n",
       "      <td>1640</td>\n",
       "      <td>1966</td>\n",
       "      <td>0</td>\n",
       "      <td>False</td>\n",
       "    </tr>\n",
       "    <tr>\n",
       "      <th>5</th>\n",
       "      <td>1720</td>\n",
       "      <td>8620</td>\n",
       "      <td>1.75</td>\n",
       "      <td>4</td>\n",
       "      <td>7</td>\n",
       "      <td>Single Family</td>\n",
       "      <td>1</td>\n",
       "      <td>0</td>\n",
       "      <td>1948</td>\n",
       "      <td>0</td>\n",
       "      <td>False</td>\n",
       "    </tr>\n",
       "  </tbody>\n",
       "</table>\n",
       "</div>"
      ],
      "text/plain": [
       "   SqFtTotLiving  SqFtLot  Bathrooms  Bedrooms  BldgGrade   PropertyType  \\\n",
       "1           2400     9373       3.00         6          7      Multiplex   \n",
       "2           3764    20156       3.75         4         10  Single Family   \n",
       "3           2060    26036       1.75         4          8  Single Family   \n",
       "4           3200     8618       3.75         5          7  Single Family   \n",
       "5           1720     8620       1.75         4          7  Single Family   \n",
       "\n",
       "   NbrLivingUnits  SqFtFinBasement  YrBuilt  YrRenovated  NewConstruction  \n",
       "1               2                0     1991            0            False  \n",
       "2               1             1452     2005            0             True  \n",
       "3               1              900     1947            0            False  \n",
       "4               1             1640     1966            0            False  \n",
       "5               1                0     1948            0            False  "
      ]
     },
     "execution_count": 20,
     "metadata": {},
     "output_type": "execute_result"
    }
   ],
   "source": [
    "house[predictors].head()"
   ]
  },
  {
   "cell_type": "code",
   "execution_count": 21,
   "metadata": {},
   "outputs": [
    {
     "name": "stdout",
     "output_type": "stream",
     "text": [
      "Variables: SqFtTotLiving, SqFtLot, Bathrooms, Bedrooms, BldgGrade, NbrLivingUnits, SqFtFinBasement, YrBuilt, YrRenovated, NewConstruction, PropertyType_Single Family, PropertyType_Townhouse\n",
      "Start: score=647988.32, constant\n",
      "Step: score=633013.35, add SqFtTotLiving\n",
      "Step: score=630793.74, add BldgGrade\n",
      "Step: score=628230.29, add YrBuilt\n",
      "Step: score=627784.16, add Bedrooms\n",
      "Step: score=627602.21, add Bathrooms\n",
      "Step: score=627525.65, add PropertyType_Townhouse\n",
      "Step: score=627525.08, add SqFtFinBasement\n",
      "Step: score=627524.98, add PropertyType_Single Family\n",
      "Step: score=627524.98, unchanged None\n",
      "\n",
      "Intercept: 6178645.017\n",
      "Coefficients:\n",
      " SqFtTotLiving: 199.27755304201472\n",
      " BldgGrade: 137159.5602261984\n",
      " YrBuilt: -3565.424939249441\n",
      " Bedrooms: -51947.38367361348\n",
      " Bathrooms: 42396.16452771906\n",
      " PropertyType_Townhouse: 84479.1620329987\n",
      " SqFtFinBasement: 7.046974967553979\n",
      " PropertyType_Single Family: 22912.05518701765\n"
     ]
    }
   ],
   "source": [
    "y = house[outcome]\n",
    "\n",
    "def train_model(variables):\n",
    "    if len(variables) == 0:\n",
    "        return None\n",
    "    model = LinearRegression()\n",
    "    model.fit(X[variables], y)\n",
    "    return model\n",
    "\n",
    "def score_model(model, variables):\n",
    "    if len(variables) == 0:\n",
    "        return AIC_score(y, [y.mean()] * len(y), model, df=1)\n",
    "    return AIC_score(y, model.predict(X[variables]), model)\n",
    "\n",
    "best_model, best_variables = stepwise_selection(X.columns, train_model, score_model, \n",
    "                                                verbose=True)\n",
    "\n",
    "print()\n",
    "print(f'Intercept: {best_model.intercept_:.3f}')\n",
    "print('Coefficients:')\n",
    "for name, coef in zip(best_variables, best_model.coef_):\n",
    "    print(f' {name}: {coef}')"
   ]
  },
  {
   "attachments": {},
   "cell_type": "markdown",
   "metadata": {},
   "source": [
    "## Взвешенная регрессия"
   ]
  },
  {
   "cell_type": "code",
   "execution_count": 22,
   "metadata": {},
   "outputs": [
    {
     "data": {
      "text/plain": [
       "1    9\n",
       "2    1\n",
       "3    2\n",
       "4    3\n",
       "5    8\n",
       "Name: Weight, dtype: int64"
      ]
     },
     "execution_count": 22,
     "metadata": {},
     "output_type": "execute_result"
    }
   ],
   "source": [
    "house['Year'] = [int(date.split('-')[0]) for date in house.DocumentDate]\n",
    "house['Weight'] = house.Year - 2005\n",
    "house['Weight'].head()"
   ]
  },
  {
   "cell_type": "code",
   "execution_count": 23,
   "metadata": {},
   "outputs": [
    {
     "data": {
      "text/html": [
       "<div>\n",
       "<style scoped>\n",
       "    .dataframe tbody tr th:only-of-type {\n",
       "        vertical-align: middle;\n",
       "    }\n",
       "\n",
       "    .dataframe tbody tr th {\n",
       "        vertical-align: top;\n",
       "    }\n",
       "\n",
       "    .dataframe thead th {\n",
       "        text-align: right;\n",
       "    }\n",
       "</style>\n",
       "<table border=\"1\" class=\"dataframe\">\n",
       "  <thead>\n",
       "    <tr style=\"text-align: right;\">\n",
       "      <th></th>\n",
       "      <th>predictors</th>\n",
       "      <th>house_lm</th>\n",
       "      <th>house_wt</th>\n",
       "    </tr>\n",
       "  </thead>\n",
       "  <tbody>\n",
       "    <tr>\n",
       "      <th>0</th>\n",
       "      <td>SqFtTotLiving</td>\n",
       "      <td>228.830604</td>\n",
       "      <td>245.024089</td>\n",
       "    </tr>\n",
       "    <tr>\n",
       "      <th>1</th>\n",
       "      <td>SqFtLot</td>\n",
       "      <td>-0.060467</td>\n",
       "      <td>-0.292415</td>\n",
       "    </tr>\n",
       "    <tr>\n",
       "      <th>2</th>\n",
       "      <td>Bathrooms</td>\n",
       "      <td>-19442.840398</td>\n",
       "      <td>-26085.970109</td>\n",
       "    </tr>\n",
       "    <tr>\n",
       "      <th>3</th>\n",
       "      <td>Bedrooms</td>\n",
       "      <td>-47769.955185</td>\n",
       "      <td>-53608.876436</td>\n",
       "    </tr>\n",
       "    <tr>\n",
       "      <th>4</th>\n",
       "      <td>BldgGrade</td>\n",
       "      <td>106106.963079</td>\n",
       "      <td>115242.434726</td>\n",
       "    </tr>\n",
       "    <tr>\n",
       "      <th>0</th>\n",
       "      <td>intercept</td>\n",
       "      <td>-521871.368188</td>\n",
       "      <td>-584189.329446</td>\n",
       "    </tr>\n",
       "  </tbody>\n",
       "</table>\n",
       "</div>"
      ],
      "text/plain": [
       "      predictors       house_lm       house_wt\n",
       "0  SqFtTotLiving     228.830604     245.024089\n",
       "1        SqFtLot      -0.060467      -0.292415\n",
       "2      Bathrooms  -19442.840398  -26085.970109\n",
       "3       Bedrooms  -47769.955185  -53608.876436\n",
       "4      BldgGrade  106106.963079  115242.434726\n",
       "0      intercept -521871.368188 -584189.329446"
      ]
     },
     "execution_count": 23,
     "metadata": {},
     "output_type": "execute_result"
    }
   ],
   "source": [
    "predictors = ['SqFtTotLiving', 'SqFtLot', 'Bathrooms', \n",
    "              'Bedrooms', 'BldgGrade']\n",
    "outcome = 'AdjSalePrice'\n",
    "house_wt = LinearRegression()\n",
    "house_wt.fit(house[predictors], house[outcome],\n",
    "                             sample_weight=house['Weight'])\n",
    "\n",
    "df = pd.concat([\n",
    "    pd.DataFrame({\n",
    "    'predictors': predictors,\n",
    "    'house_lm': house_lm.coef_,\n",
    "    'house_wt': house_wt.coef_\n",
    "    }),\n",
    "    pd.DataFrame({\n",
    "    'predictors': ['intercept'],\n",
    "    'house_lm': house_lm.intercept_,\n",
    "    'house_wt': house_wt.intercept_\n",
    "    }\n",
    "    )]\n",
    ")\n",
    "df.head(7)"
   ]
  },
  {
   "cell_type": "code",
   "execution_count": 24,
   "metadata": {},
   "outputs": [
    {
     "name": "stdout",
     "output_type": "stream",
     "text": [
      "R2:  0.5382\n",
      "RMSE:  261908\n"
     ]
    }
   ],
   "source": [
    "fitted = house_wt.predict(house[predictors])\n",
    "RMSE = np.sqrt(mean_squared_error(house[outcome], fitted))\n",
    "r2 = r2_score(house[outcome], fitted)\n",
    "print(f'R2: {r2: .4f}')\n",
    "print(f'RMSE: {RMSE: .0f}')"
   ]
  },
  {
   "attachments": {},
   "cell_type": "markdown",
   "metadata": {},
   "source": [
    "## Факторные переменные"
   ]
  },
  {
   "cell_type": "code",
   "execution_count": 25,
   "metadata": {},
   "outputs": [
    {
     "data": {
      "text/html": [
       "<div>\n",
       "<style scoped>\n",
       "    .dataframe tbody tr th:only-of-type {\n",
       "        vertical-align: middle;\n",
       "    }\n",
       "\n",
       "    .dataframe tbody tr th {\n",
       "        vertical-align: top;\n",
       "    }\n",
       "\n",
       "    .dataframe thead tr th {\n",
       "        text-align: left;\n",
       "    }\n",
       "\n",
       "    .dataframe thead tr:last-of-type th {\n",
       "        text-align: right;\n",
       "    }\n",
       "</style>\n",
       "<table border=\"1\" class=\"dataframe\">\n",
       "  <thead>\n",
       "    <tr>\n",
       "      <th></th>\n",
       "      <th colspan=\"8\" halign=\"left\">SalePrice</th>\n",
       "      <th colspan=\"2\" halign=\"left\">PropertyID</th>\n",
       "      <th>...</th>\n",
       "      <th colspan=\"2\" halign=\"left\">Year</th>\n",
       "      <th colspan=\"8\" halign=\"left\">Weight</th>\n",
       "    </tr>\n",
       "    <tr>\n",
       "      <th></th>\n",
       "      <th>count</th>\n",
       "      <th>mean</th>\n",
       "      <th>std</th>\n",
       "      <th>min</th>\n",
       "      <th>25%</th>\n",
       "      <th>50%</th>\n",
       "      <th>75%</th>\n",
       "      <th>max</th>\n",
       "      <th>count</th>\n",
       "      <th>mean</th>\n",
       "      <th>...</th>\n",
       "      <th>75%</th>\n",
       "      <th>max</th>\n",
       "      <th>count</th>\n",
       "      <th>mean</th>\n",
       "      <th>std</th>\n",
       "      <th>min</th>\n",
       "      <th>25%</th>\n",
       "      <th>50%</th>\n",
       "      <th>75%</th>\n",
       "      <th>max</th>\n",
       "    </tr>\n",
       "    <tr>\n",
       "      <th>PropertyType</th>\n",
       "      <th></th>\n",
       "      <th></th>\n",
       "      <th></th>\n",
       "      <th></th>\n",
       "      <th></th>\n",
       "      <th></th>\n",
       "      <th></th>\n",
       "      <th></th>\n",
       "      <th></th>\n",
       "      <th></th>\n",
       "      <th></th>\n",
       "      <th></th>\n",
       "      <th></th>\n",
       "      <th></th>\n",
       "      <th></th>\n",
       "      <th></th>\n",
       "      <th></th>\n",
       "      <th></th>\n",
       "      <th></th>\n",
       "      <th></th>\n",
       "      <th></th>\n",
       "    </tr>\n",
       "  </thead>\n",
       "  <tbody>\n",
       "    <tr>\n",
       "      <th>Multiplex</th>\n",
       "      <td>257.0</td>\n",
       "      <td>499526.498054</td>\n",
       "      <td>191583.316876</td>\n",
       "      <td>120000.0</td>\n",
       "      <td>359950.00</td>\n",
       "      <td>478210.0</td>\n",
       "      <td>600000.0</td>\n",
       "      <td>1675000.0</td>\n",
       "      <td>257.0</td>\n",
       "      <td>4.357707e+09</td>\n",
       "      <td>...</td>\n",
       "      <td>2008.0</td>\n",
       "      <td>2015.0</td>\n",
       "      <td>257.0</td>\n",
       "      <td>2.638132</td>\n",
       "      <td>2.357954</td>\n",
       "      <td>1.0</td>\n",
       "      <td>1.0</td>\n",
       "      <td>2.0</td>\n",
       "      <td>3.0</td>\n",
       "      <td>10.0</td>\n",
       "    </tr>\n",
       "    <tr>\n",
       "      <th>Single Family</th>\n",
       "      <td>20720.0</td>\n",
       "      <td>517038.039382</td>\n",
       "      <td>358494.857489</td>\n",
       "      <td>10480.0</td>\n",
       "      <td>326000.00</td>\n",
       "      <td>429327.0</td>\n",
       "      <td>599950.0</td>\n",
       "      <td>11000000.0</td>\n",
       "      <td>20720.0</td>\n",
       "      <td>4.650940e+09</td>\n",
       "      <td>...</td>\n",
       "      <td>2009.0</td>\n",
       "      <td>2015.0</td>\n",
       "      <td>20720.0</td>\n",
       "      <td>2.976786</td>\n",
       "      <td>2.284232</td>\n",
       "      <td>1.0</td>\n",
       "      <td>1.0</td>\n",
       "      <td>2.0</td>\n",
       "      <td>4.0</td>\n",
       "      <td>10.0</td>\n",
       "    </tr>\n",
       "    <tr>\n",
       "      <th>Townhouse</th>\n",
       "      <td>1710.0</td>\n",
       "      <td>398756.626901</td>\n",
       "      <td>135964.159640</td>\n",
       "      <td>3000.0</td>\n",
       "      <td>316777.25</td>\n",
       "      <td>379900.0</td>\n",
       "      <td>450000.0</td>\n",
       "      <td>2060000.0</td>\n",
       "      <td>1710.0</td>\n",
       "      <td>4.896996e+09</td>\n",
       "      <td>...</td>\n",
       "      <td>2009.0</td>\n",
       "      <td>2015.0</td>\n",
       "      <td>1710.0</td>\n",
       "      <td>3.023392</td>\n",
       "      <td>2.078768</td>\n",
       "      <td>1.0</td>\n",
       "      <td>1.0</td>\n",
       "      <td>2.0</td>\n",
       "      <td>4.0</td>\n",
       "      <td>10.0</td>\n",
       "    </tr>\n",
       "  </tbody>\n",
       "</table>\n",
       "<p>3 rows × 160 columns</p>\n",
       "</div>"
      ],
      "text/plain": [
       "              SalePrice                                                     \\\n",
       "                  count           mean            std       min        25%   \n",
       "PropertyType                                                                 \n",
       "Multiplex         257.0  499526.498054  191583.316876  120000.0  359950.00   \n",
       "Single Family   20720.0  517038.039382  358494.857489   10480.0  326000.00   \n",
       "Townhouse        1710.0  398756.626901  135964.159640    3000.0  316777.25   \n",
       "\n",
       "                                              PropertyID                ...  \\\n",
       "                    50%       75%         max      count          mean  ...   \n",
       "PropertyType                                                            ...   \n",
       "Multiplex      478210.0  600000.0   1675000.0      257.0  4.357707e+09  ...   \n",
       "Single Family  429327.0  599950.0  11000000.0    20720.0  4.650940e+09  ...   \n",
       "Townhouse      379900.0  450000.0   2060000.0     1710.0  4.896996e+09  ...   \n",
       "\n",
       "                 Year           Weight                                     \\\n",
       "                  75%     max    count      mean       std  min  25%  50%   \n",
       "PropertyType                                                                \n",
       "Multiplex      2008.0  2015.0    257.0  2.638132  2.357954  1.0  1.0  2.0   \n",
       "Single Family  2009.0  2015.0  20720.0  2.976786  2.284232  1.0  1.0  2.0   \n",
       "Townhouse      2009.0  2015.0   1710.0  3.023392  2.078768  1.0  1.0  2.0   \n",
       "\n",
       "                          \n",
       "               75%   max  \n",
       "PropertyType              \n",
       "Multiplex      3.0  10.0  \n",
       "Single Family  4.0  10.0  \n",
       "Townhouse      4.0  10.0  \n",
       "\n",
       "[3 rows x 160 columns]"
      ]
     },
     "execution_count": 25,
     "metadata": {},
     "output_type": "execute_result"
    }
   ],
   "source": [
    "house.groupby(by=house['PropertyType']).describe()"
   ]
  },
  {
   "cell_type": "code",
   "execution_count": 26,
   "metadata": {},
   "outputs": [
    {
     "name": "stdout",
     "output_type": "stream",
     "text": [
      "   Multiplex  Single Family  Townhouse\n",
      "1          1              0          0\n",
      "2          0              1          0\n",
      "3          0              1          0\n",
      "4          0              1          0\n",
      "5          0              1          0\n",
      "6          0              0          1\n"
     ]
    }
   ],
   "source": [
    "print(pd.get_dummies(house['PropertyType']).head(6))"
   ]
  },
  {
   "cell_type": "code",
   "execution_count": 27,
   "metadata": {},
   "outputs": [
    {
     "name": "stdout",
     "output_type": "stream",
     "text": [
      "   Single Family  Townhouse\n",
      "1              0          0\n",
      "2              1          0\n",
      "3              1          0\n",
      "4              1          0\n",
      "5              1          0\n",
      "6              0          1\n"
     ]
    }
   ],
   "source": [
    "print(pd.get_dummies(house['PropertyType'], drop_first=True).head(6))\n",
    "#Удаляем первый столбец, чтобы избавиться от мультиколениарности"
   ]
  },
  {
   "cell_type": "code",
   "execution_count": 36,
   "metadata": {},
   "outputs": [
    {
     "name": "stdout",
     "output_type": "stream",
     "text": [
      "Свободный член: -446841.366\n",
      "Коэффициенты: \n",
      "SqFtTotLiving: 223.37362892503862\n",
      "SqFtLot: -0.07036798136812905\n",
      "Bathrooms: -15979.013473415307\n",
      "Bedrooms: -50889.732184830085\n",
      "BldgGrade: 109416.30516146208\n",
      "PropertyType_Single Family: -84678.21629549318\n",
      "PropertyType_Townhouse: -115121.97921609206\n",
      "\n",
      "R2:  0.5415\n",
      "MSE:  68106217759\n"
     ]
    }
   ],
   "source": [
    "predictors = ['SqFtTotLiving', 'SqFtLot', 'Bathrooms', 'Bedrooms',\n",
    "              'BldgGrade', 'PropertyType']\n",
    "X = pd.get_dummies(house[predictors], drop_first=True)\n",
    "\n",
    "house_lm_factor = LinearRegression()\n",
    "house_lm_factor.fit(X,house[outcome])\n",
    "\n",
    "print(f'Свободный член: {house_lm_factor.intercept_: .3f}')\n",
    "print('Коэффициенты: ')\n",
    "for name, coef in zip(X.columns,house_lm_factor.coef_):\n",
    "    print(f'{name}: {coef}')\n",
    "\n",
    "print(f'\\nR2: {r2_score(house[outcome], house_lm_factor.predict(X)): .4f}')\n",
    "print(f'MSE: {mean_squared_error(house[outcome], house_lm_factor.predict(X)): .0f}')"
   ]
  },
  {
   "cell_type": "code",
   "execution_count": 37,
   "metadata": {},
   "outputs": [
    {
     "name": "stdout",
     "output_type": "stream",
     "text": [
      "         98038  98103  98042  98115  98117  98052  98034  98033  98059  98074  \\\n",
      "ZipCode    788    671    641    620    619    614    575    517    513    502   \n",
      "\n",
      "         ...  98051  98024  98354  98050  98057  98288  98224  98068  98113  \\\n",
      "ZipCode  ...     32     31      9      7      4      4      3      1      1   \n",
      "\n",
      "         98043  \n",
      "ZipCode      1  \n",
      "\n",
      "[1 rows x 80 columns]\n"
     ]
    }
   ],
   "source": [
    "print(pd.DataFrame(house['ZipCode'].value_counts()).transpose())\n",
    "#Кол-во домов с таким-то почтовым индексом,\n",
    "#хотим их сгрупировать, чтобы факторных переменных было не так много"
   ]
  },
  {
   "cell_type": "code",
   "execution_count": 40,
   "metadata": {},
   "outputs": [],
   "source": [
    "predictors = ['SqFtTotLiving', 'SqFtLot', 'Bathrooms', \n",
    "              'Bedrooms', 'BldgGrade']\n",
    "outcome = 'AdjSalePrice'\n",
    " "
   ]
  }
 ],
 "metadata": {
  "kernelspec": {
   "display_name": ".venv",
   "language": "python",
   "name": "python3"
  },
  "language_info": {
   "codemirror_mode": {
    "name": "ipython",
    "version": 3
   },
   "file_extension": ".py",
   "mimetype": "text/x-python",
   "name": "python",
   "nbconvert_exporter": "python",
   "pygments_lexer": "ipython3",
   "version": "3.10.6"
  },
  "orig_nbformat": 4
 },
 "nbformat": 4,
 "nbformat_minor": 2
}
